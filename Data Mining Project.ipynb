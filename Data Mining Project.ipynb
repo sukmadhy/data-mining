{
 "cells": [
  {
   "cell_type": "markdown",
   "id": "6ac55863",
   "metadata": {},
   "source": [
    "## Import libraries"
   ]
  },
  {
   "cell_type": "code",
   "execution_count": 107,
   "id": "afaff21b",
   "metadata": {},
   "outputs": [],
   "source": [
    "import pandas as pd\n",
    "import numpy as np\n",
    "import seaborn as sns\n",
    "\n",
    "import matplotlib.pyplot as plt\n",
    "import warnings\n",
    "warnings.filterwarnings(\"ignore\")"
   ]
  },
  {
   "cell_type": "markdown",
   "id": "2fe5d925",
   "metadata": {},
   "source": [
    "## import dataset"
   ]
  },
  {
   "cell_type": "code",
   "execution_count": 108,
   "id": "6f13eb70",
   "metadata": {},
   "outputs": [],
   "source": [
    "df_titanic = pd.read_csv('Titanic.tsv', sep = '\\t')"
   ]
  },
  {
   "cell_type": "code",
   "execution_count": 109,
   "id": "cc5c08b8",
   "metadata": {},
   "outputs": [
    {
     "name": "stdout",
     "output_type": "stream",
     "text": [
      "<class 'pandas.core.frame.DataFrame'>\n",
      "RangeIndex: 894 entries, 0 to 893\n",
      "Data columns (total 13 columns):\n",
      " #   Column       Non-Null Count  Dtype  \n",
      "---  ------       --------------  -----  \n",
      " 0   PassengerId  894 non-null    int64  \n",
      " 1   Survived     894 non-null    int64  \n",
      " 2   Pclass       894 non-null    float64\n",
      " 3   Name         894 non-null    object \n",
      " 4   Sex          894 non-null    object \n",
      " 5   Age          721 non-null    object \n",
      " 6   SibSp        894 non-null    int64  \n",
      " 7   Parch        894 non-null    object \n",
      " 8   Ticket       893 non-null    object \n",
      " 9   Fare         893 non-null    object \n",
      " 10  Cabin        208 non-null    object \n",
      " 11  Embarked     892 non-null    object \n",
      " 12  ship         894 non-null    object \n",
      "dtypes: float64(1), int64(3), object(9)\n",
      "memory usage: 90.9+ KB\n"
     ]
    }
   ],
   "source": [
    "df_titanic.info()"
   ]
  },
  {
   "cell_type": "code",
   "execution_count": 110,
   "id": "ae7f3770",
   "metadata": {},
   "outputs": [
    {
     "data": {
      "text/html": [
       "<div>\n",
       "<style scoped>\n",
       "    .dataframe tbody tr th:only-of-type {\n",
       "        vertical-align: middle;\n",
       "    }\n",
       "\n",
       "    .dataframe tbody tr th {\n",
       "        vertical-align: top;\n",
       "    }\n",
       "\n",
       "    .dataframe thead th {\n",
       "        text-align: right;\n",
       "    }\n",
       "</style>\n",
       "<table border=\"1\" class=\"dataframe\">\n",
       "  <thead>\n",
       "    <tr style=\"text-align: right;\">\n",
       "      <th></th>\n",
       "      <th>PassengerId</th>\n",
       "      <th>Survived</th>\n",
       "      <th>Pclass</th>\n",
       "      <th>Name</th>\n",
       "      <th>Sex</th>\n",
       "      <th>Age</th>\n",
       "      <th>SibSp</th>\n",
       "      <th>Parch</th>\n",
       "      <th>Ticket</th>\n",
       "      <th>Fare</th>\n",
       "      <th>Cabin</th>\n",
       "      <th>Embarked</th>\n",
       "      <th>ship</th>\n",
       "    </tr>\n",
       "  </thead>\n",
       "  <tbody>\n",
       "    <tr>\n",
       "      <th>889</th>\n",
       "      <td>890</td>\n",
       "      <td>1</td>\n",
       "      <td>1.0</td>\n",
       "      <td>Behr, Mr. Karl Howell</td>\n",
       "      <td>male</td>\n",
       "      <td>26</td>\n",
       "      <td>0</td>\n",
       "      <td>0</td>\n",
       "      <td>111369</td>\n",
       "      <td>30</td>\n",
       "      <td>C148</td>\n",
       "      <td>C</td>\n",
       "      <td>Titanic</td>\n",
       "    </tr>\n",
       "    <tr>\n",
       "      <th>890</th>\n",
       "      <td>891</td>\n",
       "      <td>0</td>\n",
       "      <td>3.0</td>\n",
       "      <td>Dooley, Mr. Patrick</td>\n",
       "      <td>male</td>\n",
       "      <td>32</td>\n",
       "      <td>0</td>\n",
       "      <td>0</td>\n",
       "      <td>370376</td>\n",
       "      <td>7,75</td>\n",
       "      <td>NaN</td>\n",
       "      <td>Q</td>\n",
       "      <td>Titanic</td>\n",
       "    </tr>\n",
       "    <tr>\n",
       "      <th>891</th>\n",
       "      <td>1000</td>\n",
       "      <td>1</td>\n",
       "      <td>1.0</td>\n",
       "      <td>Mr. Frederick Maxfield Hoyt</td>\n",
       "      <td>male</td>\n",
       "      <td>38</td>\n",
       "      <td>1</td>\n",
       "      <td>0</td>\n",
       "      <td>19943</td>\n",
       "      <td>90</td>\n",
       "      <td>C93</td>\n",
       "      <td>S</td>\n",
       "      <td>Titanic</td>\n",
       "    </tr>\n",
       "    <tr>\n",
       "      <th>892</th>\n",
       "      <td>1143</td>\n",
       "      <td>1</td>\n",
       "      <td>3.0</td>\n",
       "      <td>Sandstrom, Miss. Marguerite Ru&amp;5$$</td>\n",
       "      <td>female</td>\n",
       "      <td>4</td>\n",
       "      <td>1</td>\n",
       "      <td>1</td>\n",
       "      <td>PP 9549</td>\n",
       "      <td>16,7</td>\n",
       "      <td>G6</td>\n",
       "      <td>S</td>\n",
       "      <td>Titanic</td>\n",
       "    </tr>\n",
       "    <tr>\n",
       "      <th>893</th>\n",
       "      <td>-12</td>\n",
       "      <td>0</td>\n",
       "      <td>3.0</td>\n",
       "      <td>Vestrom, Miss. Hulda Amanda Adolfina</td>\n",
       "      <td>female</td>\n",
       "      <td>.7</td>\n",
       "      <td>0</td>\n",
       "      <td>0</td>\n",
       "      <td>350406</td>\n",
       "      <td>7,8542</td>\n",
       "      <td>NaN</td>\n",
       "      <td>S</td>\n",
       "      <td>Titanic</td>\n",
       "    </tr>\n",
       "  </tbody>\n",
       "</table>\n",
       "</div>"
      ],
      "text/plain": [
       "     PassengerId  Survived  Pclass                                  Name  \\\n",
       "889          890         1     1.0                 Behr, Mr. Karl Howell   \n",
       "890          891         0     3.0                   Dooley, Mr. Patrick   \n",
       "891         1000         1     1.0           Mr. Frederick Maxfield Hoyt   \n",
       "892         1143         1     3.0    Sandstrom, Miss. Marguerite Ru&5$$   \n",
       "893          -12         0     3.0  Vestrom, Miss. Hulda Amanda Adolfina   \n",
       "\n",
       "        Sex Age  SibSp Parch   Ticket    Fare Cabin Embarked     ship  \n",
       "889    male  26      0     0   111369      30  C148        C  Titanic  \n",
       "890    male  32      0     0   370376    7,75   NaN        Q  Titanic  \n",
       "891    male  38      1     0    19943      90   C93        S  Titanic  \n",
       "892  female   4      1     1  PP 9549    16,7    G6        S  Titanic  \n",
       "893  female  .7      0     0   350406  7,8542   NaN        S  Titanic  "
      ]
     },
     "execution_count": 110,
     "metadata": {},
     "output_type": "execute_result"
    }
   ],
   "source": [
    "df_titanic.tail()"
   ]
  },
  {
   "cell_type": "markdown",
   "id": "16013d91",
   "metadata": {},
   "source": [
    "## Find duplicates"
   ]
  },
  {
   "cell_type": "code",
   "execution_count": 111,
   "id": "fe701233",
   "metadata": {},
   "outputs": [
    {
     "data": {
      "text/plain": [
       "4"
      ]
     },
     "execution_count": 111,
     "metadata": {},
     "output_type": "execute_result"
    }
   ],
   "source": [
    "df_titanic['PassengerId'].duplicated().sum()"
   ]
  },
  {
   "cell_type": "code",
   "execution_count": 112,
   "id": "6435541a",
   "metadata": {},
   "outputs": [
    {
     "data": {
      "text/html": [
       "<div>\n",
       "<style scoped>\n",
       "    .dataframe tbody tr th:only-of-type {\n",
       "        vertical-align: middle;\n",
       "    }\n",
       "\n",
       "    .dataframe tbody tr th {\n",
       "        vertical-align: top;\n",
       "    }\n",
       "\n",
       "    .dataframe thead th {\n",
       "        text-align: right;\n",
       "    }\n",
       "</style>\n",
       "<table border=\"1\" class=\"dataframe\">\n",
       "  <thead>\n",
       "    <tr style=\"text-align: right;\">\n",
       "      <th></th>\n",
       "      <th>PassengerId</th>\n",
       "      <th>Survived</th>\n",
       "      <th>Pclass</th>\n",
       "      <th>Name</th>\n",
       "      <th>Sex</th>\n",
       "      <th>Age</th>\n",
       "      <th>SibSp</th>\n",
       "      <th>Parch</th>\n",
       "      <th>Ticket</th>\n",
       "      <th>Fare</th>\n",
       "      <th>Cabin</th>\n",
       "      <th>Embarked</th>\n",
       "      <th>ship</th>\n",
       "    </tr>\n",
       "  </thead>\n",
       "  <tbody>\n",
       "    <tr>\n",
       "      <th>13</th>\n",
       "      <td>11</td>\n",
       "      <td>1</td>\n",
       "      <td>3.0</td>\n",
       "      <td>Sandstrom, Miss. Marguerite Ru&amp;5$$</td>\n",
       "      <td>female</td>\n",
       "      <td>4</td>\n",
       "      <td>1</td>\n",
       "      <td>1</td>\n",
       "      <td>PP 9549</td>\n",
       "      <td>16,7</td>\n",
       "      <td>G6</td>\n",
       "      <td>S</td>\n",
       "      <td>Titanic</td>\n",
       "    </tr>\n",
       "    <tr>\n",
       "      <th>23</th>\n",
       "      <td>11</td>\n",
       "      <td>1</td>\n",
       "      <td>3.0</td>\n",
       "      <td>Sandstrom, Miss. Marguerite Ru&amp;5$$</td>\n",
       "      <td>female</td>\n",
       "      <td>4</td>\n",
       "      <td>1</td>\n",
       "      <td>1</td>\n",
       "      <td>PP 9549</td>\n",
       "      <td>16,7</td>\n",
       "      <td>G6</td>\n",
       "      <td>S</td>\n",
       "      <td>Titanic</td>\n",
       "    </tr>\n",
       "    <tr>\n",
       "      <th>520</th>\n",
       "      <td>225</td>\n",
       "      <td>1</td>\n",
       "      <td>1.0</td>\n",
       "      <td>Hoyt, Mr. Frederick Maxfield</td>\n",
       "      <td>male</td>\n",
       "      <td>38</td>\n",
       "      <td>1</td>\n",
       "      <td>0</td>\n",
       "      <td>19943</td>\n",
       "      <td>90</td>\n",
       "      <td>C93</td>\n",
       "      <td>S</td>\n",
       "      <td>Titanic</td>\n",
       "    </tr>\n",
       "    <tr>\n",
       "      <th>678</th>\n",
       "      <td>225</td>\n",
       "      <td>1</td>\n",
       "      <td>1.0</td>\n",
       "      <td>Hoytt, Mr. Frederick Maxfield</td>\n",
       "      <td>male</td>\n",
       "      <td>38</td>\n",
       "      <td>1</td>\n",
       "      <td>0</td>\n",
       "      <td>19943</td>\n",
       "      <td>90</td>\n",
       "      <td>C93</td>\n",
       "      <td>S</td>\n",
       "      <td>Titanic</td>\n",
       "    </tr>\n",
       "  </tbody>\n",
       "</table>\n",
       "</div>"
      ],
      "text/plain": [
       "     PassengerId  Survived  Pclass                                Name  \\\n",
       "13            11         1     3.0  Sandstrom, Miss. Marguerite Ru&5$$   \n",
       "23            11         1     3.0  Sandstrom, Miss. Marguerite Ru&5$$   \n",
       "520          225         1     1.0        Hoyt, Mr. Frederick Maxfield   \n",
       "678          225         1     1.0       Hoytt, Mr. Frederick Maxfield   \n",
       "\n",
       "        Sex Age  SibSp Parch   Ticket  Fare Cabin Embarked     ship  \n",
       "13   female   4      1     1  PP 9549  16,7    G6        S  Titanic  \n",
       "23   female   4      1     1  PP 9549  16,7    G6        S  Titanic  \n",
       "520    male  38      1     0    19943    90   C93        S  Titanic  \n",
       "678    male  38      1     0    19943    90   C93        S  Titanic  "
      ]
     },
     "execution_count": 112,
     "metadata": {},
     "output_type": "execute_result"
    }
   ],
   "source": [
    "df_titanic[df_titanic['PassengerId'].duplicated()]"
   ]
  },
  {
   "cell_type": "markdown",
   "id": "df349380",
   "metadata": {},
   "source": [
    "we found the duplicates, thus we need to remove the duplicates."
   ]
  },
  {
   "cell_type": "code",
   "execution_count": 113,
   "id": "c8eb70e1",
   "metadata": {},
   "outputs": [],
   "source": [
    "df_titanic = df_titanic.drop_duplicates(subset=['PassengerId'], keep='first')\n"
   ]
  },
  {
   "cell_type": "code",
   "execution_count": 114,
   "id": "4ad34a2c",
   "metadata": {},
   "outputs": [
    {
     "data": {
      "text/plain": [
       "0"
      ]
     },
     "execution_count": 114,
     "metadata": {},
     "output_type": "execute_result"
    }
   ],
   "source": [
    "df_titanic['PassengerId'].duplicated().sum()"
   ]
  },
  {
   "cell_type": "code",
   "execution_count": 115,
   "id": "2a9aa896",
   "metadata": {},
   "outputs": [
    {
     "name": "stdout",
     "output_type": "stream",
     "text": [
      "<class 'pandas.core.frame.DataFrame'>\n",
      "Int64Index: 890 entries, 0 to 893\n",
      "Data columns (total 13 columns):\n",
      " #   Column       Non-Null Count  Dtype  \n",
      "---  ------       --------------  -----  \n",
      " 0   PassengerId  890 non-null    int64  \n",
      " 1   Survived     890 non-null    int64  \n",
      " 2   Pclass       890 non-null    float64\n",
      " 3   Name         890 non-null    object \n",
      " 4   Sex          890 non-null    object \n",
      " 5   Age          717 non-null    object \n",
      " 6   SibSp        890 non-null    int64  \n",
      " 7   Parch        890 non-null    object \n",
      " 8   Ticket       889 non-null    object \n",
      " 9   Fare         889 non-null    object \n",
      " 10  Cabin        204 non-null    object \n",
      " 11  Embarked     888 non-null    object \n",
      " 12  ship         890 non-null    object \n",
      "dtypes: float64(1), int64(3), object(9)\n",
      "memory usage: 97.3+ KB\n"
     ]
    }
   ],
   "source": [
    "df_titanic.info()"
   ]
  },
  {
   "cell_type": "markdown",
   "id": "664a4086",
   "metadata": {},
   "source": [
    "## repairing the dataset (manipulate the value) and change the data type"
   ]
  },
  {
   "cell_type": "markdown",
   "id": "ea6871eb",
   "metadata": {},
   "source": [
    "There are inconsistent values in the some columns. Hence, we need to change them to proper values."
   ]
  },
  {
   "cell_type": "markdown",
   "id": "0f5bc704",
   "metadata": {},
   "source": [
    "### PassengerId"
   ]
  },
  {
   "cell_type": "markdown",
   "id": "d6b77d48",
   "metadata": {},
   "source": [
    "I will change the data type of PassengerId because we won't do aggregation to this column"
   ]
  },
  {
   "cell_type": "code",
   "execution_count": 116,
   "id": "7a2ff293",
   "metadata": {},
   "outputs": [
    {
     "name": "stdout",
     "output_type": "stream",
     "text": [
      "<class 'pandas.core.frame.DataFrame'>\n",
      "Int64Index: 890 entries, 0 to 893\n",
      "Data columns (total 13 columns):\n",
      " #   Column       Non-Null Count  Dtype  \n",
      "---  ------       --------------  -----  \n",
      " 0   PassengerId  890 non-null    object \n",
      " 1   Survived     890 non-null    int64  \n",
      " 2   Pclass       890 non-null    float64\n",
      " 3   Name         890 non-null    object \n",
      " 4   Sex          890 non-null    object \n",
      " 5   Age          717 non-null    object \n",
      " 6   SibSp        890 non-null    int64  \n",
      " 7   Parch        890 non-null    object \n",
      " 8   Ticket       889 non-null    object \n",
      " 9   Fare         889 non-null    object \n",
      " 10  Cabin        204 non-null    object \n",
      " 11  Embarked     888 non-null    object \n",
      " 12  ship         890 non-null    object \n",
      "dtypes: float64(1), int64(2), object(10)\n",
      "memory usage: 97.3+ KB\n"
     ]
    }
   ],
   "source": [
    "#change the data type\n",
    "\n",
    "df_titanic['PassengerId'] = df_titanic['PassengerId'].astype(str)\n",
    "df_titanic.info()"
   ]
  },
  {
   "cell_type": "code",
   "execution_count": 117,
   "id": "0bff5e2f",
   "metadata": {},
   "outputs": [
    {
     "data": {
      "text/plain": [
       "1      1\n",
       "601    1\n",
       "590    1\n",
       "591    1\n",
       "592    1\n",
       "      ..\n",
       "303    1\n",
       "304    1\n",
       "305    1\n",
       "306    1\n",
       "-12    1\n",
       "Name: PassengerId, Length: 890, dtype: int64"
      ]
     },
     "execution_count": 117,
     "metadata": {},
     "output_type": "execute_result"
    }
   ],
   "source": [
    "df_titanic['PassengerId'].value_counts()"
   ]
  },
  {
   "cell_type": "markdown",
   "id": "0bc3fff0",
   "metadata": {},
   "source": [
    "### Name"
   ]
  },
  {
   "cell_type": "code",
   "execution_count": 118,
   "id": "2bc66071",
   "metadata": {},
   "outputs": [
    {
     "data": {
      "text/plain": [
       "Sandstrom, Miss. Marguerite Ru&5$$                     2\n",
       "Vestrom, Miss. Hulda Amanda Adolfina                   2\n",
       "Braund, Mr. Owen Harris                                1\n",
       "Jacobsohn, Mrs. Sidney Samuel (Amy Frances Christy)    1\n",
       "Murdlin, Mr. Joseph                                    1\n",
       "                                                      ..\n",
       "Johnson, Mr. William Cahoone Jr                        1\n",
       "Keane, Miss. Nora A                                    1\n",
       "Williams, Mr. Howard Hugh \"Harry\"                      1\n",
       "Allison, Master. Hudson Trevor                         1\n",
       "Mr. Frederick Maxfield Hoyt                            1\n",
       "Name: Name, Length: 888, dtype: int64"
      ]
     },
     "execution_count": 118,
     "metadata": {},
     "output_type": "execute_result"
    }
   ],
   "source": [
    "df_titanic['Name'].value_counts()"
   ]
  },
  {
   "cell_type": "code",
   "execution_count": 119,
   "id": "05bc1ff5",
   "metadata": {},
   "outputs": [
    {
     "data": {
      "text/plain": [
       "2"
      ]
     },
     "execution_count": 119,
     "metadata": {},
     "output_type": "execute_result"
    }
   ],
   "source": [
    "df_titanic['Name'].duplicated().sum()"
   ]
  },
  {
   "cell_type": "code",
   "execution_count": 120,
   "id": "646faece",
   "metadata": {},
   "outputs": [
    {
     "data": {
      "text/html": [
       "<div>\n",
       "<style scoped>\n",
       "    .dataframe tbody tr th:only-of-type {\n",
       "        vertical-align: middle;\n",
       "    }\n",
       "\n",
       "    .dataframe tbody tr th {\n",
       "        vertical-align: top;\n",
       "    }\n",
       "\n",
       "    .dataframe thead th {\n",
       "        text-align: right;\n",
       "    }\n",
       "</style>\n",
       "<table border=\"1\" class=\"dataframe\">\n",
       "  <thead>\n",
       "    <tr style=\"text-align: right;\">\n",
       "      <th></th>\n",
       "      <th>PassengerId</th>\n",
       "      <th>Survived</th>\n",
       "      <th>Pclass</th>\n",
       "      <th>Name</th>\n",
       "      <th>Sex</th>\n",
       "      <th>Age</th>\n",
       "      <th>SibSp</th>\n",
       "      <th>Parch</th>\n",
       "      <th>Ticket</th>\n",
       "      <th>Fare</th>\n",
       "      <th>Cabin</th>\n",
       "      <th>Embarked</th>\n",
       "      <th>ship</th>\n",
       "    </tr>\n",
       "  </thead>\n",
       "  <tbody>\n",
       "    <tr>\n",
       "      <th>892</th>\n",
       "      <td>1143</td>\n",
       "      <td>1</td>\n",
       "      <td>3.0</td>\n",
       "      <td>Sandstrom, Miss. Marguerite Ru&amp;5$$</td>\n",
       "      <td>female</td>\n",
       "      <td>4</td>\n",
       "      <td>1</td>\n",
       "      <td>1</td>\n",
       "      <td>PP 9549</td>\n",
       "      <td>16,7</td>\n",
       "      <td>G6</td>\n",
       "      <td>S</td>\n",
       "      <td>Titanic</td>\n",
       "    </tr>\n",
       "    <tr>\n",
       "      <th>893</th>\n",
       "      <td>-12</td>\n",
       "      <td>0</td>\n",
       "      <td>3.0</td>\n",
       "      <td>Vestrom, Miss. Hulda Amanda Adolfina</td>\n",
       "      <td>female</td>\n",
       "      <td>.7</td>\n",
       "      <td>0</td>\n",
       "      <td>0</td>\n",
       "      <td>350406</td>\n",
       "      <td>7,8542</td>\n",
       "      <td>NaN</td>\n",
       "      <td>S</td>\n",
       "      <td>Titanic</td>\n",
       "    </tr>\n",
       "  </tbody>\n",
       "</table>\n",
       "</div>"
      ],
      "text/plain": [
       "    PassengerId  Survived  Pclass                                  Name  \\\n",
       "892        1143         1     3.0    Sandstrom, Miss. Marguerite Ru&5$$   \n",
       "893         -12         0     3.0  Vestrom, Miss. Hulda Amanda Adolfina   \n",
       "\n",
       "        Sex Age  SibSp Parch   Ticket    Fare Cabin Embarked     ship  \n",
       "892  female   4      1     1  PP 9549    16,7    G6        S  Titanic  \n",
       "893  female  .7      0     0   350406  7,8542   NaN        S  Titanic  "
      ]
     },
     "execution_count": 120,
     "metadata": {},
     "output_type": "execute_result"
    }
   ],
   "source": [
    "df_titanic[df_titanic['Name'].duplicated()]"
   ]
  },
  {
   "cell_type": "code",
   "execution_count": 121,
   "id": "23c5f640",
   "metadata": {},
   "outputs": [
    {
     "data": {
      "text/plain": [
       "Braund, Mr. Owen Harris                         1\n",
       "Duff Gordon, Sir. Cosmo Edmund (\"Mr Morgan\")    1\n",
       "Gilinski, Mr. Eliezer                           1\n",
       "Murdlin, Mr. Joseph                             1\n",
       "Rintamaki, Mr. Matti                            1\n",
       "                                               ..\n",
       "McCoy, Mr. Bernard                              1\n",
       "Johnson, Mr. William Cahoone Jr                 1\n",
       "Keane, Miss. Nora A                             1\n",
       "Williams, Mr. Howard Hugh \"Harry\"               1\n",
       "Mr. Frederick Maxfield Hoyt                     1\n",
       "Name: Name, Length: 888, dtype: int64"
      ]
     },
     "execution_count": 121,
     "metadata": {},
     "output_type": "execute_result"
    }
   ],
   "source": [
    "df_titanic = df_titanic.drop_duplicates(subset=['Name'], keep='first')\n",
    "df_titanic['Name'].value_counts()"
   ]
  },
  {
   "cell_type": "code",
   "execution_count": 122,
   "id": "ea957e60",
   "metadata": {},
   "outputs": [
    {
     "data": {
      "text/plain": [
       "0"
      ]
     },
     "execution_count": 122,
     "metadata": {},
     "output_type": "execute_result"
    }
   ],
   "source": [
    "df_titanic['Name'].duplicated().sum()"
   ]
  },
  {
   "cell_type": "code",
   "execution_count": 123,
   "id": "dc8c07e6",
   "metadata": {},
   "outputs": [],
   "source": [
    "df_titanic['Name'] = df_titanic['Name'].replace('Mr. Frederick Maxfield Hoyt','Hoyt, Mr. Frederick Maxfield')"
   ]
  },
  {
   "cell_type": "code",
   "execution_count": 124,
   "id": "a4c91d3a",
   "metadata": {},
   "outputs": [
    {
     "data": {
      "text/html": [
       "<div>\n",
       "<style scoped>\n",
       "    .dataframe tbody tr th:only-of-type {\n",
       "        vertical-align: middle;\n",
       "    }\n",
       "\n",
       "    .dataframe tbody tr th {\n",
       "        vertical-align: top;\n",
       "    }\n",
       "\n",
       "    .dataframe thead th {\n",
       "        text-align: right;\n",
       "    }\n",
       "</style>\n",
       "<table border=\"1\" class=\"dataframe\">\n",
       "  <thead>\n",
       "    <tr style=\"text-align: right;\">\n",
       "      <th></th>\n",
       "      <th>PassengerId</th>\n",
       "      <th>Survived</th>\n",
       "      <th>Pclass</th>\n",
       "      <th>Name</th>\n",
       "      <th>Sex</th>\n",
       "      <th>Age</th>\n",
       "      <th>SibSp</th>\n",
       "      <th>Parch</th>\n",
       "      <th>Ticket</th>\n",
       "      <th>Fare</th>\n",
       "      <th>Cabin</th>\n",
       "      <th>Embarked</th>\n",
       "      <th>ship</th>\n",
       "      <th>FirstName</th>\n",
       "      <th>LastName</th>\n",
       "    </tr>\n",
       "  </thead>\n",
       "  <tbody>\n",
       "    <tr>\n",
       "      <th>887</th>\n",
       "      <td>888</td>\n",
       "      <td>1</td>\n",
       "      <td>1.0</td>\n",
       "      <td>Graham, Miss. Margaret Edith</td>\n",
       "      <td>F</td>\n",
       "      <td>19</td>\n",
       "      <td>0</td>\n",
       "      <td>0</td>\n",
       "      <td>112053</td>\n",
       "      <td>30</td>\n",
       "      <td>B42</td>\n",
       "      <td>S</td>\n",
       "      <td>Titanic</td>\n",
       "      <td>Miss. Margaret Edith</td>\n",
       "      <td>Graham</td>\n",
       "    </tr>\n",
       "    <tr>\n",
       "      <th>888</th>\n",
       "      <td>889</td>\n",
       "      <td>0</td>\n",
       "      <td>3.0</td>\n",
       "      <td>Johnston, Miss. Catherine Helen \"Carrie\"</td>\n",
       "      <td>female</td>\n",
       "      <td>NaN</td>\n",
       "      <td>1</td>\n",
       "      <td>2</td>\n",
       "      <td>W./C. 6607</td>\n",
       "      <td>23,45</td>\n",
       "      <td>NaN</td>\n",
       "      <td>S</td>\n",
       "      <td>Titanic</td>\n",
       "      <td>Miss. Catherine Helen \"Carrie\"</td>\n",
       "      <td>Johnston</td>\n",
       "    </tr>\n",
       "    <tr>\n",
       "      <th>889</th>\n",
       "      <td>890</td>\n",
       "      <td>1</td>\n",
       "      <td>1.0</td>\n",
       "      <td>Behr, Mr. Karl Howell</td>\n",
       "      <td>male</td>\n",
       "      <td>26</td>\n",
       "      <td>0</td>\n",
       "      <td>0</td>\n",
       "      <td>111369</td>\n",
       "      <td>30</td>\n",
       "      <td>C148</td>\n",
       "      <td>C</td>\n",
       "      <td>Titanic</td>\n",
       "      <td>Mr. Karl Howell</td>\n",
       "      <td>Behr</td>\n",
       "    </tr>\n",
       "    <tr>\n",
       "      <th>890</th>\n",
       "      <td>891</td>\n",
       "      <td>0</td>\n",
       "      <td>3.0</td>\n",
       "      <td>Dooley, Mr. Patrick</td>\n",
       "      <td>male</td>\n",
       "      <td>32</td>\n",
       "      <td>0</td>\n",
       "      <td>0</td>\n",
       "      <td>370376</td>\n",
       "      <td>7,75</td>\n",
       "      <td>NaN</td>\n",
       "      <td>Q</td>\n",
       "      <td>Titanic</td>\n",
       "      <td>Mr. Patrick</td>\n",
       "      <td>Dooley</td>\n",
       "    </tr>\n",
       "    <tr>\n",
       "      <th>891</th>\n",
       "      <td>1000</td>\n",
       "      <td>1</td>\n",
       "      <td>1.0</td>\n",
       "      <td>Hoyt, Mr. Frederick Maxfield</td>\n",
       "      <td>male</td>\n",
       "      <td>38</td>\n",
       "      <td>1</td>\n",
       "      <td>0</td>\n",
       "      <td>19943</td>\n",
       "      <td>90</td>\n",
       "      <td>C93</td>\n",
       "      <td>S</td>\n",
       "      <td>Titanic</td>\n",
       "      <td>Mr. Frederick Maxfield</td>\n",
       "      <td>Hoyt</td>\n",
       "    </tr>\n",
       "  </tbody>\n",
       "</table>\n",
       "</div>"
      ],
      "text/plain": [
       "    PassengerId  Survived  Pclass                                      Name  \\\n",
       "887         888         1     1.0              Graham, Miss. Margaret Edith   \n",
       "888         889         0     3.0  Johnston, Miss. Catherine Helen \"Carrie\"   \n",
       "889         890         1     1.0                     Behr, Mr. Karl Howell   \n",
       "890         891         0     3.0                       Dooley, Mr. Patrick   \n",
       "891        1000         1     1.0              Hoyt, Mr. Frederick Maxfield   \n",
       "\n",
       "        Sex  Age  SibSp Parch      Ticket   Fare Cabin Embarked     ship  \\\n",
       "887       F   19      0     0      112053     30   B42        S  Titanic   \n",
       "888  female  NaN      1     2  W./C. 6607  23,45   NaN        S  Titanic   \n",
       "889    male   26      0     0      111369     30  C148        C  Titanic   \n",
       "890    male   32      0     0      370376   7,75   NaN        Q  Titanic   \n",
       "891    male   38      1     0       19943     90   C93        S  Titanic   \n",
       "\n",
       "                           FirstName  LastName  \n",
       "887             Miss. Margaret Edith    Graham  \n",
       "888   Miss. Catherine Helen \"Carrie\"  Johnston  \n",
       "889                  Mr. Karl Howell      Behr  \n",
       "890                      Mr. Patrick    Dooley  \n",
       "891           Mr. Frederick Maxfield      Hoyt  "
      ]
     },
     "execution_count": 124,
     "metadata": {},
     "output_type": "execute_result"
    }
   ],
   "source": [
    "df_titanic['FirstName'] = df_titanic['Name'].str.split(',').str[1]\n",
    "df_titanic['LastName'] = df_titanic['Name'].str.split(',').str[0]\n",
    "df_titanic.tail(5)"
   ]
  },
  {
   "cell_type": "code",
   "execution_count": 125,
   "id": "ffb15bc4",
   "metadata": {},
   "outputs": [
    {
     "data": {
      "text/plain": [
       " Mr. James                                                       7\n",
       " Mr. John                                                        7\n",
       " Miss. Mary                                                      6\n",
       " Mr. William                                                     6\n",
       " Mr. Ivan                                                        4\n",
       "                                                                ..\n",
       " Master. Hudson Trevor                                           1\n",
       " Miss. Margaret                                                  1\n",
       " Mrs. Victor de Satode (Maria Josefa Perez de Soto y Vallejo)    1\n",
       " Miss. Laura Mabel                                               1\n",
       " Mr. Karl Howell                                                 1\n",
       "Name: FirstName, Length: 799, dtype: int64"
      ]
     },
     "execution_count": 125,
     "metadata": {},
     "output_type": "execute_result"
    }
   ],
   "source": [
    "df_titanic['FirstName'].value_counts()"
   ]
  },
  {
   "cell_type": "code",
   "execution_count": 126,
   "id": "32c1c759",
   "metadata": {},
   "outputs": [
    {
     "data": {
      "text/html": [
       "<div>\n",
       "<style scoped>\n",
       "    .dataframe tbody tr th:only-of-type {\n",
       "        vertical-align: middle;\n",
       "    }\n",
       "\n",
       "    .dataframe tbody tr th {\n",
       "        vertical-align: top;\n",
       "    }\n",
       "\n",
       "    .dataframe thead th {\n",
       "        text-align: right;\n",
       "    }\n",
       "</style>\n",
       "<table border=\"1\" class=\"dataframe\">\n",
       "  <thead>\n",
       "    <tr style=\"text-align: right;\">\n",
       "      <th></th>\n",
       "      <th>PassengerId</th>\n",
       "      <th>Survived</th>\n",
       "      <th>Pclass</th>\n",
       "      <th>Name</th>\n",
       "      <th>Sex</th>\n",
       "      <th>Age</th>\n",
       "      <th>SibSp</th>\n",
       "      <th>Parch</th>\n",
       "      <th>Ticket</th>\n",
       "      <th>Fare</th>\n",
       "      <th>Cabin</th>\n",
       "      <th>Embarked</th>\n",
       "      <th>ship</th>\n",
       "      <th>FirstName</th>\n",
       "      <th>LastName</th>\n",
       "    </tr>\n",
       "  </thead>\n",
       "  <tbody>\n",
       "    <tr>\n",
       "      <th>887</th>\n",
       "      <td>888</td>\n",
       "      <td>1</td>\n",
       "      <td>1.0</td>\n",
       "      <td>Graham, Miss. Margaret Edith</td>\n",
       "      <td>F</td>\n",
       "      <td>19</td>\n",
       "      <td>0</td>\n",
       "      <td>0</td>\n",
       "      <td>112053</td>\n",
       "      <td>30</td>\n",
       "      <td>B42</td>\n",
       "      <td>S</td>\n",
       "      <td>Titanic</td>\n",
       "      <td>Margaret Edith</td>\n",
       "      <td>Graham</td>\n",
       "    </tr>\n",
       "    <tr>\n",
       "      <th>888</th>\n",
       "      <td>889</td>\n",
       "      <td>0</td>\n",
       "      <td>3.0</td>\n",
       "      <td>Johnston, Miss. Catherine Helen \"Carrie\"</td>\n",
       "      <td>female</td>\n",
       "      <td>NaN</td>\n",
       "      <td>1</td>\n",
       "      <td>2</td>\n",
       "      <td>W./C. 6607</td>\n",
       "      <td>23,45</td>\n",
       "      <td>NaN</td>\n",
       "      <td>S</td>\n",
       "      <td>Titanic</td>\n",
       "      <td>Catherine Helen \"Carrie\"</td>\n",
       "      <td>Johnston</td>\n",
       "    </tr>\n",
       "    <tr>\n",
       "      <th>889</th>\n",
       "      <td>890</td>\n",
       "      <td>1</td>\n",
       "      <td>1.0</td>\n",
       "      <td>Behr, Mr. Karl Howell</td>\n",
       "      <td>male</td>\n",
       "      <td>26</td>\n",
       "      <td>0</td>\n",
       "      <td>0</td>\n",
       "      <td>111369</td>\n",
       "      <td>30</td>\n",
       "      <td>C148</td>\n",
       "      <td>C</td>\n",
       "      <td>Titanic</td>\n",
       "      <td>Karl Howell</td>\n",
       "      <td>Behr</td>\n",
       "    </tr>\n",
       "    <tr>\n",
       "      <th>890</th>\n",
       "      <td>891</td>\n",
       "      <td>0</td>\n",
       "      <td>3.0</td>\n",
       "      <td>Dooley, Mr. Patrick</td>\n",
       "      <td>male</td>\n",
       "      <td>32</td>\n",
       "      <td>0</td>\n",
       "      <td>0</td>\n",
       "      <td>370376</td>\n",
       "      <td>7,75</td>\n",
       "      <td>NaN</td>\n",
       "      <td>Q</td>\n",
       "      <td>Titanic</td>\n",
       "      <td>Patrick</td>\n",
       "      <td>Dooley</td>\n",
       "    </tr>\n",
       "    <tr>\n",
       "      <th>891</th>\n",
       "      <td>1000</td>\n",
       "      <td>1</td>\n",
       "      <td>1.0</td>\n",
       "      <td>Hoyt, Mr. Frederick Maxfield</td>\n",
       "      <td>male</td>\n",
       "      <td>38</td>\n",
       "      <td>1</td>\n",
       "      <td>0</td>\n",
       "      <td>19943</td>\n",
       "      <td>90</td>\n",
       "      <td>C93</td>\n",
       "      <td>S</td>\n",
       "      <td>Titanic</td>\n",
       "      <td>Frederick Maxfield</td>\n",
       "      <td>Hoyt</td>\n",
       "    </tr>\n",
       "  </tbody>\n",
       "</table>\n",
       "</div>"
      ],
      "text/plain": [
       "    PassengerId  Survived  Pclass                                      Name  \\\n",
       "887         888         1     1.0              Graham, Miss. Margaret Edith   \n",
       "888         889         0     3.0  Johnston, Miss. Catherine Helen \"Carrie\"   \n",
       "889         890         1     1.0                     Behr, Mr. Karl Howell   \n",
       "890         891         0     3.0                       Dooley, Mr. Patrick   \n",
       "891        1000         1     1.0              Hoyt, Mr. Frederick Maxfield   \n",
       "\n",
       "        Sex  Age  SibSp Parch      Ticket   Fare Cabin Embarked     ship  \\\n",
       "887       F   19      0     0      112053     30   B42        S  Titanic   \n",
       "888  female  NaN      1     2  W./C. 6607  23,45   NaN        S  Titanic   \n",
       "889    male   26      0     0      111369     30  C148        C  Titanic   \n",
       "890    male   32      0     0      370376   7,75   NaN        Q  Titanic   \n",
       "891    male   38      1     0       19943     90   C93        S  Titanic   \n",
       "\n",
       "                     FirstName  LastName  \n",
       "887             Margaret Edith    Graham  \n",
       "888   Catherine Helen \"Carrie\"  Johnston  \n",
       "889                Karl Howell      Behr  \n",
       "890                    Patrick    Dooley  \n",
       "891         Frederick Maxfield      Hoyt  "
      ]
     },
     "execution_count": 126,
     "metadata": {},
     "output_type": "execute_result"
    }
   ],
   "source": [
    "df_titanic['FirstName'] = df_titanic['FirstName'].str.split('.').str[1]\n",
    "df_titanic.tail(5)"
   ]
  },
  {
   "cell_type": "code",
   "execution_count": 127,
   "id": "75cd367f",
   "metadata": {},
   "outputs": [
    {
     "data": {
      "text/html": [
       "<div>\n",
       "<style scoped>\n",
       "    .dataframe tbody tr th:only-of-type {\n",
       "        vertical-align: middle;\n",
       "    }\n",
       "\n",
       "    .dataframe tbody tr th {\n",
       "        vertical-align: top;\n",
       "    }\n",
       "\n",
       "    .dataframe thead th {\n",
       "        text-align: right;\n",
       "    }\n",
       "</style>\n",
       "<table border=\"1\" class=\"dataframe\">\n",
       "  <thead>\n",
       "    <tr style=\"text-align: right;\">\n",
       "      <th></th>\n",
       "      <th>PassengerId</th>\n",
       "      <th>Survived</th>\n",
       "      <th>Pclass</th>\n",
       "      <th>FirstName</th>\n",
       "      <th>LastName</th>\n",
       "      <th>Sex</th>\n",
       "      <th>Age</th>\n",
       "      <th>SibSp</th>\n",
       "      <th>Parch</th>\n",
       "      <th>Ticket</th>\n",
       "      <th>Fare</th>\n",
       "      <th>Cabin</th>\n",
       "      <th>Embarked</th>\n",
       "      <th>ship</th>\n",
       "    </tr>\n",
       "  </thead>\n",
       "  <tbody>\n",
       "    <tr>\n",
       "      <th>887</th>\n",
       "      <td>888</td>\n",
       "      <td>1</td>\n",
       "      <td>1.0</td>\n",
       "      <td>Margaret Edith</td>\n",
       "      <td>Graham</td>\n",
       "      <td>F</td>\n",
       "      <td>19</td>\n",
       "      <td>0</td>\n",
       "      <td>0</td>\n",
       "      <td>112053</td>\n",
       "      <td>30</td>\n",
       "      <td>B42</td>\n",
       "      <td>S</td>\n",
       "      <td>Titanic</td>\n",
       "    </tr>\n",
       "    <tr>\n",
       "      <th>888</th>\n",
       "      <td>889</td>\n",
       "      <td>0</td>\n",
       "      <td>3.0</td>\n",
       "      <td>Catherine Helen \"Carrie\"</td>\n",
       "      <td>Johnston</td>\n",
       "      <td>female</td>\n",
       "      <td>NaN</td>\n",
       "      <td>1</td>\n",
       "      <td>2</td>\n",
       "      <td>W./C. 6607</td>\n",
       "      <td>23,45</td>\n",
       "      <td>NaN</td>\n",
       "      <td>S</td>\n",
       "      <td>Titanic</td>\n",
       "    </tr>\n",
       "    <tr>\n",
       "      <th>889</th>\n",
       "      <td>890</td>\n",
       "      <td>1</td>\n",
       "      <td>1.0</td>\n",
       "      <td>Karl Howell</td>\n",
       "      <td>Behr</td>\n",
       "      <td>male</td>\n",
       "      <td>26</td>\n",
       "      <td>0</td>\n",
       "      <td>0</td>\n",
       "      <td>111369</td>\n",
       "      <td>30</td>\n",
       "      <td>C148</td>\n",
       "      <td>C</td>\n",
       "      <td>Titanic</td>\n",
       "    </tr>\n",
       "    <tr>\n",
       "      <th>890</th>\n",
       "      <td>891</td>\n",
       "      <td>0</td>\n",
       "      <td>3.0</td>\n",
       "      <td>Patrick</td>\n",
       "      <td>Dooley</td>\n",
       "      <td>male</td>\n",
       "      <td>32</td>\n",
       "      <td>0</td>\n",
       "      <td>0</td>\n",
       "      <td>370376</td>\n",
       "      <td>7,75</td>\n",
       "      <td>NaN</td>\n",
       "      <td>Q</td>\n",
       "      <td>Titanic</td>\n",
       "    </tr>\n",
       "    <tr>\n",
       "      <th>891</th>\n",
       "      <td>1000</td>\n",
       "      <td>1</td>\n",
       "      <td>1.0</td>\n",
       "      <td>Frederick Maxfield</td>\n",
       "      <td>Hoyt</td>\n",
       "      <td>male</td>\n",
       "      <td>38</td>\n",
       "      <td>1</td>\n",
       "      <td>0</td>\n",
       "      <td>19943</td>\n",
       "      <td>90</td>\n",
       "      <td>C93</td>\n",
       "      <td>S</td>\n",
       "      <td>Titanic</td>\n",
       "    </tr>\n",
       "  </tbody>\n",
       "</table>\n",
       "</div>"
      ],
      "text/plain": [
       "    PassengerId  Survived  Pclass                  FirstName  LastName  \\\n",
       "887         888         1     1.0             Margaret Edith    Graham   \n",
       "888         889         0     3.0   Catherine Helen \"Carrie\"  Johnston   \n",
       "889         890         1     1.0                Karl Howell      Behr   \n",
       "890         891         0     3.0                    Patrick    Dooley   \n",
       "891        1000         1     1.0         Frederick Maxfield      Hoyt   \n",
       "\n",
       "        Sex  Age  SibSp Parch      Ticket   Fare Cabin Embarked     ship  \n",
       "887       F   19      0     0      112053     30   B42        S  Titanic  \n",
       "888  female  NaN      1     2  W./C. 6607  23,45   NaN        S  Titanic  \n",
       "889    male   26      0     0      111369     30  C148        C  Titanic  \n",
       "890    male   32      0     0      370376   7,75   NaN        Q  Titanic  \n",
       "891    male   38      1     0       19943     90   C93        S  Titanic  "
      ]
     },
     "execution_count": 127,
     "metadata": {},
     "output_type": "execute_result"
    }
   ],
   "source": [
    "df_titanic = df_titanic[[\"PassengerId\",\"Survived\",\"Pclass\",\"FirstName\",\"LastName\",\"Sex\",\"Age\",\"SibSp\",\"Parch\",\"Ticket\",\"Fare\",\"Cabin\",\"Embarked\",\"ship\"]]\n",
    "df_titanic.tail()"
   ]
  },
  {
   "cell_type": "markdown",
   "id": "a62f9568",
   "metadata": {},
   "source": [
    "### Survived"
   ]
  },
  {
   "cell_type": "code",
   "execution_count": 128,
   "id": "74276cdd",
   "metadata": {},
   "outputs": [
    {
     "data": {
      "text/plain": [
       " 0    547\n",
       " 1    340\n",
       "-4      1\n",
       "Name: Survived, dtype: int64"
      ]
     },
     "execution_count": 128,
     "metadata": {},
     "output_type": "execute_result"
    }
   ],
   "source": [
    "df_titanic[\"Survived\"].value_counts()"
   ]
  },
  {
   "cell_type": "code",
   "execution_count": 129,
   "id": "f3b05837",
   "metadata": {},
   "outputs": [
    {
     "data": {
      "text/plain": [
       "0    0\n",
       "Name: Survived, dtype: int64"
      ]
     },
     "execution_count": 129,
     "metadata": {},
     "output_type": "execute_result"
    }
   ],
   "source": [
    "df_titanic[\"Survived\"].mode()"
   ]
  },
  {
   "cell_type": "markdown",
   "id": "957c6ed6",
   "metadata": {},
   "source": [
    "We will change -4 to 0 because 0 is the nearest value to -4 and also the most frequent values."
   ]
  },
  {
   "cell_type": "code",
   "execution_count": 130,
   "id": "4154c3b0",
   "metadata": {},
   "outputs": [
    {
     "data": {
      "text/plain": [
       "0    548\n",
       "1    340\n",
       "Name: Survived, dtype: int64"
      ]
     },
     "execution_count": 130,
     "metadata": {},
     "output_type": "execute_result"
    }
   ],
   "source": [
    "df_titanic['Survived'] = df_titanic['Survived'].replace(-4, 0)\n",
    "df_titanic['Survived'].value_counts()"
   ]
  },
  {
   "cell_type": "markdown",
   "id": "376c6a55",
   "metadata": {},
   "source": [
    "### Sex"
   ]
  },
  {
   "cell_type": "code",
   "execution_count": 131,
   "id": "7d0c34e9",
   "metadata": {},
   "outputs": [
    {
     "data": {
      "text/plain": [
       "male       573\n",
       "female     306\n",
       "fem          2\n",
       "malef        1\n",
       "mal          1\n",
       "femmale      1\n",
       "feemale      1\n",
       "Female       1\n",
       "malee        1\n",
       "F            1\n",
       "Name: Sex, dtype: int64"
      ]
     },
     "execution_count": 131,
     "metadata": {},
     "output_type": "execute_result"
    }
   ],
   "source": [
    "df_titanic[\"Sex\"].value_counts()"
   ]
  },
  {
   "cell_type": "markdown",
   "id": "a89105e2",
   "metadata": {},
   "source": [
    "As we can see, there are inconsistency in the column of gender. In this column we will change it to only two labels. Female and Male."
   ]
  },
  {
   "cell_type": "code",
   "execution_count": 132,
   "id": "9853189b",
   "metadata": {},
   "outputs": [
    {
     "data": {
      "text/plain": [
       "Male      576\n",
       "Female    312\n",
       "Name: Sex, dtype: int64"
      ]
     },
     "execution_count": 132,
     "metadata": {},
     "output_type": "execute_result"
    }
   ],
   "source": [
    "#change the label\n",
    "\n",
    "# male\n",
    "df_titanic['Sex'] = df_titanic['Sex'].replace(['malef', 'mal', 'malee', 'male'], 'Male')\n",
    "\n",
    "# female\n",
    "df_titanic['Sex'] = df_titanic['Sex'].replace(['fem', 'femmale', 'feemale', 'Female','F', 'female'], 'Female')\n",
    "\n",
    "df_titanic['Sex'].value_counts()"
   ]
  },
  {
   "cell_type": "markdown",
   "id": "1dd07554",
   "metadata": {},
   "source": [
    "### Age"
   ]
  },
  {
   "cell_type": "markdown",
   "id": "23a85aa1",
   "metadata": {},
   "source": [
    "There are some values of age that has comma and are not even numbers, so we will change it to period and even numbers."
   ]
  },
  {
   "cell_type": "code",
   "execution_count": 133,
   "id": "1c48ee53",
   "metadata": {},
   "outputs": [
    {
     "data": {
      "text/plain": [
       "24      30\n",
       "22      27\n",
       "18      26\n",
       "19      25\n",
       "30      24\n",
       "        ..\n",
       "36,5     1\n",
       "55,5     1\n",
       "0,92     1\n",
       "23,5     1\n",
       "74       1\n",
       "Name: Age, Length: 93, dtype: int64"
      ]
     },
     "execution_count": 133,
     "metadata": {},
     "output_type": "execute_result"
    }
   ],
   "source": [
    "df_titanic['Age'].value_counts()"
   ]
  },
  {
   "cell_type": "code",
   "execution_count": 134,
   "id": "bb35b566",
   "metadata": {},
   "outputs": [
    {
     "data": {
      "text/html": [
       "<div>\n",
       "<style scoped>\n",
       "    .dataframe tbody tr th:only-of-type {\n",
       "        vertical-align: middle;\n",
       "    }\n",
       "\n",
       "    .dataframe tbody tr th {\n",
       "        vertical-align: top;\n",
       "    }\n",
       "\n",
       "    .dataframe thead th {\n",
       "        text-align: right;\n",
       "    }\n",
       "</style>\n",
       "<table border=\"1\" class=\"dataframe\">\n",
       "  <thead>\n",
       "    <tr style=\"text-align: right;\">\n",
       "      <th></th>\n",
       "      <th>PassengerId</th>\n",
       "      <th>Survived</th>\n",
       "      <th>Pclass</th>\n",
       "      <th>FirstName</th>\n",
       "      <th>LastName</th>\n",
       "      <th>Sex</th>\n",
       "      <th>Age</th>\n",
       "      <th>SibSp</th>\n",
       "      <th>Parch</th>\n",
       "      <th>Ticket</th>\n",
       "      <th>Fare</th>\n",
       "      <th>Cabin</th>\n",
       "      <th>Embarked</th>\n",
       "      <th>ship</th>\n",
       "    </tr>\n",
       "  </thead>\n",
       "  <tbody>\n",
       "    <tr>\n",
       "      <th>57</th>\n",
       "      <td>58</td>\n",
       "      <td>0</td>\n",
       "      <td>3.0</td>\n",
       "      <td>Mansouer</td>\n",
       "      <td>Novel</td>\n",
       "      <td>Male</td>\n",
       "      <td>28,5</td>\n",
       "      <td>0</td>\n",
       "      <td>0</td>\n",
       "      <td>2697</td>\n",
       "      <td>7,2292</td>\n",
       "      <td>NaN</td>\n",
       "      <td>C</td>\n",
       "      <td>Titanic</td>\n",
       "    </tr>\n",
       "    <tr>\n",
       "      <th>78</th>\n",
       "      <td>79</td>\n",
       "      <td>1</td>\n",
       "      <td>2.0</td>\n",
       "      <td>Alden Gates</td>\n",
       "      <td>Caldwell</td>\n",
       "      <td>Male</td>\n",
       "      <td>0,83</td>\n",
       "      <td>0</td>\n",
       "      <td>2</td>\n",
       "      <td>248738</td>\n",
       "      <td>29</td>\n",
       "      <td>NaN</td>\n",
       "      <td>S</td>\n",
       "      <td>Titanic</td>\n",
       "    </tr>\n",
       "    <tr>\n",
       "      <th>111</th>\n",
       "      <td>112</td>\n",
       "      <td>0</td>\n",
       "      <td>3.0</td>\n",
       "      <td>Hileni</td>\n",
       "      <td>Zabour</td>\n",
       "      <td>Female</td>\n",
       "      <td>14,5</td>\n",
       "      <td>1</td>\n",
       "      <td>0</td>\n",
       "      <td>2665</td>\n",
       "      <td>14,4542</td>\n",
       "      <td>NaN</td>\n",
       "      <td>C</td>\n",
       "      <td>Titanic</td>\n",
       "    </tr>\n",
       "    <tr>\n",
       "      <th>116</th>\n",
       "      <td>117</td>\n",
       "      <td>0</td>\n",
       "      <td>3.0</td>\n",
       "      <td>Patrick</td>\n",
       "      <td>Connors</td>\n",
       "      <td>Male</td>\n",
       "      <td>70,5</td>\n",
       "      <td>0</td>\n",
       "      <td>0</td>\n",
       "      <td>370369</td>\n",
       "      <td>7,75</td>\n",
       "      <td>NaN</td>\n",
       "      <td>Q</td>\n",
       "      <td>Titanic</td>\n",
       "    </tr>\n",
       "    <tr>\n",
       "      <th>122</th>\n",
       "      <td>123</td>\n",
       "      <td>0</td>\n",
       "      <td>2.0</td>\n",
       "      <td>Nicholas</td>\n",
       "      <td>Nasser</td>\n",
       "      <td>Male</td>\n",
       "      <td>32,5</td>\n",
       "      <td>1</td>\n",
       "      <td>0</td>\n",
       "      <td>237736</td>\n",
       "      <td>30,0708</td>\n",
       "      <td>NaN</td>\n",
       "      <td>C</td>\n",
       "      <td>Titanic</td>\n",
       "    </tr>\n",
       "    <tr>\n",
       "      <th>123</th>\n",
       "      <td>124</td>\n",
       "      <td>1</td>\n",
       "      <td>2.0</td>\n",
       "      <td>Susan</td>\n",
       "      <td>Webber</td>\n",
       "      <td>Female</td>\n",
       "      <td>32,5</td>\n",
       "      <td>0</td>\n",
       "      <td>0</td>\n",
       "      <td>27267</td>\n",
       "      <td>13</td>\n",
       "      <td>E101</td>\n",
       "      <td>S</td>\n",
       "      <td>Titanic</td>\n",
       "    </tr>\n",
       "    <tr>\n",
       "      <th>148</th>\n",
       "      <td>149</td>\n",
       "      <td>0</td>\n",
       "      <td>2.0</td>\n",
       "      <td>Michel (\"Louis M Hoffman\")</td>\n",
       "      <td>Navratil</td>\n",
       "      <td>Male</td>\n",
       "      <td>36,5</td>\n",
       "      <td>0</td>\n",
       "      <td>2</td>\n",
       "      <td>230080</td>\n",
       "      <td>26</td>\n",
       "      <td>F2</td>\n",
       "      <td>S</td>\n",
       "      <td>Titanic</td>\n",
       "    </tr>\n",
       "    <tr>\n",
       "      <th>152</th>\n",
       "      <td>153</td>\n",
       "      <td>0</td>\n",
       "      <td>3.0</td>\n",
       "      <td>Alfonzo</td>\n",
       "      <td>Meo</td>\n",
       "      <td>Male</td>\n",
       "      <td>55,5</td>\n",
       "      <td>0</td>\n",
       "      <td>0</td>\n",
       "      <td>A.5. 11206</td>\n",
       "      <td>8,05</td>\n",
       "      <td>NaN</td>\n",
       "      <td>S</td>\n",
       "      <td>Titanic</td>\n",
       "    </tr>\n",
       "    <tr>\n",
       "      <th>153</th>\n",
       "      <td>154</td>\n",
       "      <td>0</td>\n",
       "      <td>3.0</td>\n",
       "      <td>Austin Blyler</td>\n",
       "      <td>van Billiard</td>\n",
       "      <td>Male</td>\n",
       "      <td>40,5</td>\n",
       "      <td>0</td>\n",
       "      <td>2</td>\n",
       "      <td>A/5. 851</td>\n",
       "      <td>14,5</td>\n",
       "      <td>NaN</td>\n",
       "      <td>S</td>\n",
       "      <td>Titanic</td>\n",
       "    </tr>\n",
       "    <tr>\n",
       "      <th>203</th>\n",
       "      <td>204</td>\n",
       "      <td>0</td>\n",
       "      <td>3.0</td>\n",
       "      <td>Gerious</td>\n",
       "      <td>Youseff</td>\n",
       "      <td>Male</td>\n",
       "      <td>45,5</td>\n",
       "      <td>0</td>\n",
       "      <td>0</td>\n",
       "      <td>2628</td>\n",
       "      <td>7,225</td>\n",
       "      <td>NaN</td>\n",
       "      <td>C</td>\n",
       "      <td>Titanic</td>\n",
       "    </tr>\n",
       "    <tr>\n",
       "      <th>227</th>\n",
       "      <td>228</td>\n",
       "      <td>0</td>\n",
       "      <td>3.0</td>\n",
       "      <td>John Hall (\"Henry\")</td>\n",
       "      <td>Lovell</td>\n",
       "      <td>Male</td>\n",
       "      <td>20,5</td>\n",
       "      <td>0</td>\n",
       "      <td>0</td>\n",
       "      <td>A/5 21173</td>\n",
       "      <td>7,25</td>\n",
       "      <td>NaN</td>\n",
       "      <td>S</td>\n",
       "      <td>Titanic</td>\n",
       "    </tr>\n",
       "    <tr>\n",
       "      <th>296</th>\n",
       "      <td>297</td>\n",
       "      <td>0</td>\n",
       "      <td>3.0</td>\n",
       "      <td>Mansour</td>\n",
       "      <td>Hanna</td>\n",
       "      <td>Male</td>\n",
       "      <td>23,5</td>\n",
       "      <td>0</td>\n",
       "      <td>0</td>\n",
       "      <td>2693</td>\n",
       "      <td>7,2292</td>\n",
       "      <td>NaN</td>\n",
       "      <td>C</td>\n",
       "      <td>Titanic</td>\n",
       "    </tr>\n",
       "    <tr>\n",
       "      <th>305</th>\n",
       "      <td>306</td>\n",
       "      <td>1</td>\n",
       "      <td>1.0</td>\n",
       "      <td>Hudson Trevor</td>\n",
       "      <td>Allison</td>\n",
       "      <td>Male</td>\n",
       "      <td>0,92</td>\n",
       "      <td>1</td>\n",
       "      <td>2</td>\n",
       "      <td>113781</td>\n",
       "      <td>151,55</td>\n",
       "      <td>C22 C26</td>\n",
       "      <td>S</td>\n",
       "      <td>Titanic</td>\n",
       "    </tr>\n",
       "    <tr>\n",
       "      <th>331</th>\n",
       "      <td>332</td>\n",
       "      <td>0</td>\n",
       "      <td>1.0</td>\n",
       "      <td>Austen</td>\n",
       "      <td>Partner</td>\n",
       "      <td>Male</td>\n",
       "      <td>45,5</td>\n",
       "      <td>0</td>\n",
       "      <td>0</td>\n",
       "      <td>113043</td>\n",
       "      <td>28,5</td>\n",
       "      <td>C124</td>\n",
       "      <td>S</td>\n",
       "      <td>Titanic</td>\n",
       "    </tr>\n",
       "    <tr>\n",
       "      <th>469</th>\n",
       "      <td>470</td>\n",
       "      <td>1</td>\n",
       "      <td>3.0</td>\n",
       "      <td>Helene Barbara</td>\n",
       "      <td>Baclini</td>\n",
       "      <td>Female</td>\n",
       "      <td>0,75</td>\n",
       "      <td>2</td>\n",
       "      <td>1</td>\n",
       "      <td>2666</td>\n",
       "      <td>19,2583</td>\n",
       "      <td>NaN</td>\n",
       "      <td>C</td>\n",
       "      <td>Titanic</td>\n",
       "    </tr>\n",
       "    <tr>\n",
       "      <th>525</th>\n",
       "      <td>526</td>\n",
       "      <td>0</td>\n",
       "      <td>3.0</td>\n",
       "      <td>James</td>\n",
       "      <td>Farrell</td>\n",
       "      <td>Male</td>\n",
       "      <td>40,5</td>\n",
       "      <td>0</td>\n",
       "      <td>0</td>\n",
       "      <td>367232</td>\n",
       "      <td>7,75</td>\n",
       "      <td>NaN</td>\n",
       "      <td>Q</td>\n",
       "      <td>Titanic</td>\n",
       "    </tr>\n",
       "    <tr>\n",
       "      <th>644</th>\n",
       "      <td>645</td>\n",
       "      <td>1</td>\n",
       "      <td>3.0</td>\n",
       "      <td>Eugenie</td>\n",
       "      <td>Baclini</td>\n",
       "      <td>Female</td>\n",
       "      <td>0,75</td>\n",
       "      <td>2</td>\n",
       "      <td>1</td>\n",
       "      <td>2666</td>\n",
       "      <td>19,2583</td>\n",
       "      <td>NaN</td>\n",
       "      <td>C</td>\n",
       "      <td>Titanic</td>\n",
       "    </tr>\n",
       "    <tr>\n",
       "      <th>676</th>\n",
       "      <td>677</td>\n",
       "      <td>0</td>\n",
       "      <td>3.0</td>\n",
       "      <td>Frederick Charles</td>\n",
       "      <td>Sawyer</td>\n",
       "      <td>Male</td>\n",
       "      <td>24,5</td>\n",
       "      <td>0</td>\n",
       "      <td>0</td>\n",
       "      <td>342826</td>\n",
       "      <td>8,05</td>\n",
       "      <td>NaN</td>\n",
       "      <td>S</td>\n",
       "      <td>Titanic</td>\n",
       "    </tr>\n",
       "    <tr>\n",
       "      <th>735</th>\n",
       "      <td>736</td>\n",
       "      <td>0</td>\n",
       "      <td>3.0</td>\n",
       "      <td>Leslie</td>\n",
       "      <td>Williams</td>\n",
       "      <td>Male</td>\n",
       "      <td>28,5</td>\n",
       "      <td>0</td>\n",
       "      <td>0</td>\n",
       "      <td>54636</td>\n",
       "      <td>16,1</td>\n",
       "      <td>NaN</td>\n",
       "      <td>S</td>\n",
       "      <td>Titanic</td>\n",
       "    </tr>\n",
       "    <tr>\n",
       "      <th>755</th>\n",
       "      <td>756</td>\n",
       "      <td>1</td>\n",
       "      <td>2.0</td>\n",
       "      <td>Viljo</td>\n",
       "      <td>Hamalainen</td>\n",
       "      <td>Male</td>\n",
       "      <td>0,67</td>\n",
       "      <td>1</td>\n",
       "      <td>1</td>\n",
       "      <td>250649</td>\n",
       "      <td>14,5</td>\n",
       "      <td>NaN</td>\n",
       "      <td>S</td>\n",
       "      <td>Titanic</td>\n",
       "    </tr>\n",
       "    <tr>\n",
       "      <th>767</th>\n",
       "      <td>768</td>\n",
       "      <td>0</td>\n",
       "      <td>3.0</td>\n",
       "      <td>Mary</td>\n",
       "      <td>Mangan</td>\n",
       "      <td>Female</td>\n",
       "      <td>30,5</td>\n",
       "      <td>0</td>\n",
       "      <td>0</td>\n",
       "      <td>364850</td>\n",
       "      <td>7,75</td>\n",
       "      <td>NaN</td>\n",
       "      <td>Q</td>\n",
       "      <td>Titanic</td>\n",
       "    </tr>\n",
       "    <tr>\n",
       "      <th>803</th>\n",
       "      <td>804</td>\n",
       "      <td>1</td>\n",
       "      <td>3.0</td>\n",
       "      <td>Assad Alexander</td>\n",
       "      <td>Thomas</td>\n",
       "      <td>Male</td>\n",
       "      <td>0,42</td>\n",
       "      <td>0</td>\n",
       "      <td>1</td>\n",
       "      <td>2625</td>\n",
       "      <td>8,5167</td>\n",
       "      <td>NaN</td>\n",
       "      <td>C</td>\n",
       "      <td>Titanic</td>\n",
       "    </tr>\n",
       "    <tr>\n",
       "      <th>814</th>\n",
       "      <td>815</td>\n",
       "      <td>0</td>\n",
       "      <td>3.0</td>\n",
       "      <td>Ernest Portage</td>\n",
       "      <td>Tomlin</td>\n",
       "      <td>Male</td>\n",
       "      <td>30,5</td>\n",
       "      <td>0</td>\n",
       "      <td>0</td>\n",
       "      <td>364499</td>\n",
       "      <td>8,05</td>\n",
       "      <td>NaN</td>\n",
       "      <td>S</td>\n",
       "      <td>Titanic</td>\n",
       "    </tr>\n",
       "    <tr>\n",
       "      <th>831</th>\n",
       "      <td>832</td>\n",
       "      <td>1</td>\n",
       "      <td>2.0</td>\n",
       "      <td>George Sibley</td>\n",
       "      <td>Richards</td>\n",
       "      <td>Male</td>\n",
       "      <td>0,83</td>\n",
       "      <td>1</td>\n",
       "      <td>1</td>\n",
       "      <td>29106</td>\n",
       "      <td>18,75</td>\n",
       "      <td>NaN</td>\n",
       "      <td>S</td>\n",
       "      <td>Titanic</td>\n",
       "    </tr>\n",
       "    <tr>\n",
       "      <th>843</th>\n",
       "      <td>844</td>\n",
       "      <td>0</td>\n",
       "      <td>3.0</td>\n",
       "      <td>Peter L</td>\n",
       "      <td>Lemberopolous</td>\n",
       "      <td>Male</td>\n",
       "      <td>34,5</td>\n",
       "      <td>0</td>\n",
       "      <td>0</td>\n",
       "      <td>2683</td>\n",
       "      <td>6,4375</td>\n",
       "      <td>NaN</td>\n",
       "      <td>C</td>\n",
       "      <td>Titanic</td>\n",
       "    </tr>\n",
       "  </tbody>\n",
       "</table>\n",
       "</div>"
      ],
      "text/plain": [
       "    PassengerId  Survived  Pclass                    FirstName       LastName  \\\n",
       "57           58         0     3.0                     Mansouer          Novel   \n",
       "78           79         1     2.0                  Alden Gates       Caldwell   \n",
       "111         112         0     3.0                       Hileni         Zabour   \n",
       "116         117         0     3.0                      Patrick        Connors   \n",
       "122         123         0     2.0                     Nicholas         Nasser   \n",
       "123         124         1     2.0                        Susan         Webber   \n",
       "148         149         0     2.0   Michel (\"Louis M Hoffman\")       Navratil   \n",
       "152         153         0     3.0                      Alfonzo            Meo   \n",
       "153         154         0     3.0                Austin Blyler   van Billiard   \n",
       "203         204         0     3.0                      Gerious        Youseff   \n",
       "227         228         0     3.0          John Hall (\"Henry\")         Lovell   \n",
       "296         297         0     3.0                      Mansour          Hanna   \n",
       "305         306         1     1.0                Hudson Trevor        Allison   \n",
       "331         332         0     1.0                       Austen        Partner   \n",
       "469         470         1     3.0               Helene Barbara        Baclini   \n",
       "525         526         0     3.0                        James        Farrell   \n",
       "644         645         1     3.0                      Eugenie        Baclini   \n",
       "676         677         0     3.0            Frederick Charles         Sawyer   \n",
       "735         736         0     3.0                       Leslie       Williams   \n",
       "755         756         1     2.0                        Viljo     Hamalainen   \n",
       "767         768         0     3.0                         Mary         Mangan   \n",
       "803         804         1     3.0              Assad Alexander         Thomas   \n",
       "814         815         0     3.0               Ernest Portage         Tomlin   \n",
       "831         832         1     2.0                George Sibley       Richards   \n",
       "843         844         0     3.0                      Peter L  Lemberopolous   \n",
       "\n",
       "        Sex   Age  SibSp Parch      Ticket     Fare    Cabin Embarked     ship  \n",
       "57     Male  28,5      0     0        2697   7,2292      NaN        C  Titanic  \n",
       "78     Male  0,83      0     2      248738       29      NaN        S  Titanic  \n",
       "111  Female  14,5      1     0        2665  14,4542      NaN        C  Titanic  \n",
       "116    Male  70,5      0     0      370369     7,75      NaN        Q  Titanic  \n",
       "122    Male  32,5      1     0      237736  30,0708      NaN        C  Titanic  \n",
       "123  Female  32,5      0     0       27267       13     E101        S  Titanic  \n",
       "148    Male  36,5      0     2      230080       26       F2        S  Titanic  \n",
       "152    Male  55,5      0     0  A.5. 11206     8,05      NaN        S  Titanic  \n",
       "153    Male  40,5      0     2    A/5. 851     14,5      NaN        S  Titanic  \n",
       "203    Male  45,5      0     0        2628    7,225      NaN        C  Titanic  \n",
       "227    Male  20,5      0     0   A/5 21173     7,25      NaN        S  Titanic  \n",
       "296    Male  23,5      0     0        2693   7,2292      NaN        C  Titanic  \n",
       "305    Male  0,92      1     2      113781   151,55  C22 C26        S  Titanic  \n",
       "331    Male  45,5      0     0      113043     28,5     C124        S  Titanic  \n",
       "469  Female  0,75      2     1        2666  19,2583      NaN        C  Titanic  \n",
       "525    Male  40,5      0     0      367232     7,75      NaN        Q  Titanic  \n",
       "644  Female  0,75      2     1        2666  19,2583      NaN        C  Titanic  \n",
       "676    Male  24,5      0     0      342826     8,05      NaN        S  Titanic  \n",
       "735    Male  28,5      0     0       54636     16,1      NaN        S  Titanic  \n",
       "755    Male  0,67      1     1      250649     14,5      NaN        S  Titanic  \n",
       "767  Female  30,5      0     0      364850     7,75      NaN        Q  Titanic  \n",
       "803    Male  0,42      0     1        2625   8,5167      NaN        C  Titanic  \n",
       "814    Male  30,5      0     0      364499     8,05      NaN        S  Titanic  \n",
       "831    Male  0,83      1     1       29106    18,75      NaN        S  Titanic  \n",
       "843    Male  34,5      0     0        2683   6,4375      NaN        C  Titanic  "
      ]
     },
     "execution_count": 134,
     "metadata": {},
     "output_type": "execute_result"
    }
   ],
   "source": [
    "# find the age with decimal\n",
    "\n",
    "df_titanic[df_titanic['Age'].str.find(',') > -1]"
   ]
  },
  {
   "cell_type": "code",
   "execution_count": 135,
   "id": "f0b8692b",
   "metadata": {
    "scrolled": false
   },
   "outputs": [
    {
     "data": {
      "text/html": [
       "<div>\n",
       "<style scoped>\n",
       "    .dataframe tbody tr th:only-of-type {\n",
       "        vertical-align: middle;\n",
       "    }\n",
       "\n",
       "    .dataframe tbody tr th {\n",
       "        vertical-align: top;\n",
       "    }\n",
       "\n",
       "    .dataframe thead th {\n",
       "        text-align: right;\n",
       "    }\n",
       "</style>\n",
       "<table border=\"1\" class=\"dataframe\">\n",
       "  <thead>\n",
       "    <tr style=\"text-align: right;\">\n",
       "      <th></th>\n",
       "      <th>PassengerId</th>\n",
       "      <th>Survived</th>\n",
       "      <th>Pclass</th>\n",
       "      <th>FirstName</th>\n",
       "      <th>LastName</th>\n",
       "      <th>Sex</th>\n",
       "      <th>Age</th>\n",
       "      <th>SibSp</th>\n",
       "      <th>Parch</th>\n",
       "      <th>Ticket</th>\n",
       "      <th>Fare</th>\n",
       "      <th>Cabin</th>\n",
       "      <th>Embarked</th>\n",
       "      <th>ship</th>\n",
       "    </tr>\n",
       "  </thead>\n",
       "  <tbody>\n",
       "    <tr>\n",
       "      <th>887</th>\n",
       "      <td>888</td>\n",
       "      <td>1</td>\n",
       "      <td>1.0</td>\n",
       "      <td>Margaret Edith</td>\n",
       "      <td>Graham</td>\n",
       "      <td>Female</td>\n",
       "      <td>19</td>\n",
       "      <td>0</td>\n",
       "      <td>0</td>\n",
       "      <td>112053</td>\n",
       "      <td>30</td>\n",
       "      <td>B42</td>\n",
       "      <td>S</td>\n",
       "      <td>Titanic</td>\n",
       "    </tr>\n",
       "    <tr>\n",
       "      <th>888</th>\n",
       "      <td>889</td>\n",
       "      <td>0</td>\n",
       "      <td>3.0</td>\n",
       "      <td>Catherine Helen \"Carrie\"</td>\n",
       "      <td>Johnston</td>\n",
       "      <td>Female</td>\n",
       "      <td>NaN</td>\n",
       "      <td>1</td>\n",
       "      <td>2</td>\n",
       "      <td>W./C. 6607</td>\n",
       "      <td>23,45</td>\n",
       "      <td>NaN</td>\n",
       "      <td>S</td>\n",
       "      <td>Titanic</td>\n",
       "    </tr>\n",
       "    <tr>\n",
       "      <th>889</th>\n",
       "      <td>890</td>\n",
       "      <td>1</td>\n",
       "      <td>1.0</td>\n",
       "      <td>Karl Howell</td>\n",
       "      <td>Behr</td>\n",
       "      <td>Male</td>\n",
       "      <td>26</td>\n",
       "      <td>0</td>\n",
       "      <td>0</td>\n",
       "      <td>111369</td>\n",
       "      <td>30</td>\n",
       "      <td>C148</td>\n",
       "      <td>C</td>\n",
       "      <td>Titanic</td>\n",
       "    </tr>\n",
       "    <tr>\n",
       "      <th>890</th>\n",
       "      <td>891</td>\n",
       "      <td>0</td>\n",
       "      <td>3.0</td>\n",
       "      <td>Patrick</td>\n",
       "      <td>Dooley</td>\n",
       "      <td>Male</td>\n",
       "      <td>32</td>\n",
       "      <td>0</td>\n",
       "      <td>0</td>\n",
       "      <td>370376</td>\n",
       "      <td>7,75</td>\n",
       "      <td>NaN</td>\n",
       "      <td>Q</td>\n",
       "      <td>Titanic</td>\n",
       "    </tr>\n",
       "    <tr>\n",
       "      <th>891</th>\n",
       "      <td>1000</td>\n",
       "      <td>1</td>\n",
       "      <td>1.0</td>\n",
       "      <td>Frederick Maxfield</td>\n",
       "      <td>Hoyt</td>\n",
       "      <td>Male</td>\n",
       "      <td>38</td>\n",
       "      <td>1</td>\n",
       "      <td>0</td>\n",
       "      <td>19943</td>\n",
       "      <td>90</td>\n",
       "      <td>C93</td>\n",
       "      <td>S</td>\n",
       "      <td>Titanic</td>\n",
       "    </tr>\n",
       "  </tbody>\n",
       "</table>\n",
       "</div>"
      ],
      "text/plain": [
       "    PassengerId  Survived  Pclass                  FirstName  LastName  \\\n",
       "887         888         1     1.0             Margaret Edith    Graham   \n",
       "888         889         0     3.0   Catherine Helen \"Carrie\"  Johnston   \n",
       "889         890         1     1.0                Karl Howell      Behr   \n",
       "890         891         0     3.0                    Patrick    Dooley   \n",
       "891        1000         1     1.0         Frederick Maxfield      Hoyt   \n",
       "\n",
       "        Sex  Age  SibSp Parch      Ticket   Fare Cabin Embarked     ship  \n",
       "887  Female   19      0     0      112053     30   B42        S  Titanic  \n",
       "888  Female  NaN      1     2  W./C. 6607  23,45   NaN        S  Titanic  \n",
       "889    Male   26      0     0      111369     30  C148        C  Titanic  \n",
       "890    Male   32      0     0      370376   7,75   NaN        Q  Titanic  \n",
       "891    Male   38      1     0       19943     90   C93        S  Titanic  "
      ]
     },
     "execution_count": 135,
     "metadata": {},
     "output_type": "execute_result"
    }
   ],
   "source": [
    "# change the comma into period, and minus values to positive values\n",
    "\n",
    "df_titanic['Age'] = df_titanic['Age'].str.replace(',','.')\n",
    "#df_titanic['Age'] = df_titanic['Age'].str.replace('-3','3')\n",
    "#df_titanic['Age'] = df_titanic['Age'].str.replace('-12','12')\n",
    "#df_titanic['Age'] = df_titanic['Age'].str.replace('4435',np.NaN)\n",
    "df_titanic.tail()"
   ]
  },
  {
   "cell_type": "code",
   "execution_count": 136,
   "id": "1bc7d454",
   "metadata": {},
   "outputs": [
    {
     "name": "stdout",
     "output_type": "stream",
     "text": [
      "<class 'pandas.core.frame.DataFrame'>\n",
      "Int64Index: 888 entries, 0 to 891\n",
      "Data columns (total 14 columns):\n",
      " #   Column       Non-Null Count  Dtype  \n",
      "---  ------       --------------  -----  \n",
      " 0   PassengerId  888 non-null    object \n",
      " 1   Survived     888 non-null    int64  \n",
      " 2   Pclass       888 non-null    float64\n",
      " 3   FirstName    888 non-null    object \n",
      " 4   LastName     888 non-null    object \n",
      " 5   Sex          888 non-null    object \n",
      " 6   Age          715 non-null    float64\n",
      " 7   SibSp        888 non-null    int64  \n",
      " 8   Parch        888 non-null    object \n",
      " 9   Ticket       887 non-null    object \n",
      " 10  Fare         887 non-null    object \n",
      " 11  Cabin        203 non-null    object \n",
      " 12  Embarked     886 non-null    object \n",
      " 13  ship         888 non-null    object \n",
      "dtypes: float64(2), int64(2), object(10)\n",
      "memory usage: 104.1+ KB\n"
     ]
    }
   ],
   "source": [
    "#Change the data type \n",
    "\n",
    "#Age\n",
    "df_titanic['Age'] = df_titanic['Age'].astype(float)\n",
    "\n",
    "df_titanic.info()"
   ]
  },
  {
   "cell_type": "code",
   "execution_count": 137,
   "id": "95934728",
   "metadata": {},
   "outputs": [
    {
     "data": {
      "text/html": [
       "<div>\n",
       "<style scoped>\n",
       "    .dataframe tbody tr th:only-of-type {\n",
       "        vertical-align: middle;\n",
       "    }\n",
       "\n",
       "    .dataframe tbody tr th {\n",
       "        vertical-align: top;\n",
       "    }\n",
       "\n",
       "    .dataframe thead th {\n",
       "        text-align: right;\n",
       "    }\n",
       "</style>\n",
       "<table border=\"1\" class=\"dataframe\">\n",
       "  <thead>\n",
       "    <tr style=\"text-align: right;\">\n",
       "      <th></th>\n",
       "      <th>PassengerId</th>\n",
       "      <th>Survived</th>\n",
       "      <th>Pclass</th>\n",
       "      <th>FirstName</th>\n",
       "      <th>LastName</th>\n",
       "      <th>Sex</th>\n",
       "      <th>Age</th>\n",
       "      <th>SibSp</th>\n",
       "      <th>Parch</th>\n",
       "      <th>Ticket</th>\n",
       "      <th>Fare</th>\n",
       "      <th>Cabin</th>\n",
       "      <th>Embarked</th>\n",
       "      <th>ship</th>\n",
       "    </tr>\n",
       "  </thead>\n",
       "  <tbody>\n",
       "    <tr>\n",
       "      <th>887</th>\n",
       "      <td>888</td>\n",
       "      <td>1</td>\n",
       "      <td>1.0</td>\n",
       "      <td>Margaret Edith</td>\n",
       "      <td>Graham</td>\n",
       "      <td>Female</td>\n",
       "      <td>19.0</td>\n",
       "      <td>0</td>\n",
       "      <td>0</td>\n",
       "      <td>112053</td>\n",
       "      <td>30</td>\n",
       "      <td>B42</td>\n",
       "      <td>S</td>\n",
       "      <td>Titanic</td>\n",
       "    </tr>\n",
       "    <tr>\n",
       "      <th>888</th>\n",
       "      <td>889</td>\n",
       "      <td>0</td>\n",
       "      <td>3.0</td>\n",
       "      <td>Catherine Helen \"Carrie\"</td>\n",
       "      <td>Johnston</td>\n",
       "      <td>Female</td>\n",
       "      <td>NaN</td>\n",
       "      <td>1</td>\n",
       "      <td>2</td>\n",
       "      <td>W./C. 6607</td>\n",
       "      <td>23,45</td>\n",
       "      <td>NaN</td>\n",
       "      <td>S</td>\n",
       "      <td>Titanic</td>\n",
       "    </tr>\n",
       "    <tr>\n",
       "      <th>889</th>\n",
       "      <td>890</td>\n",
       "      <td>1</td>\n",
       "      <td>1.0</td>\n",
       "      <td>Karl Howell</td>\n",
       "      <td>Behr</td>\n",
       "      <td>Male</td>\n",
       "      <td>26.0</td>\n",
       "      <td>0</td>\n",
       "      <td>0</td>\n",
       "      <td>111369</td>\n",
       "      <td>30</td>\n",
       "      <td>C148</td>\n",
       "      <td>C</td>\n",
       "      <td>Titanic</td>\n",
       "    </tr>\n",
       "    <tr>\n",
       "      <th>890</th>\n",
       "      <td>891</td>\n",
       "      <td>0</td>\n",
       "      <td>3.0</td>\n",
       "      <td>Patrick</td>\n",
       "      <td>Dooley</td>\n",
       "      <td>Male</td>\n",
       "      <td>32.0</td>\n",
       "      <td>0</td>\n",
       "      <td>0</td>\n",
       "      <td>370376</td>\n",
       "      <td>7,75</td>\n",
       "      <td>NaN</td>\n",
       "      <td>Q</td>\n",
       "      <td>Titanic</td>\n",
       "    </tr>\n",
       "    <tr>\n",
       "      <th>891</th>\n",
       "      <td>1000</td>\n",
       "      <td>1</td>\n",
       "      <td>1.0</td>\n",
       "      <td>Frederick Maxfield</td>\n",
       "      <td>Hoyt</td>\n",
       "      <td>Male</td>\n",
       "      <td>38.0</td>\n",
       "      <td>1</td>\n",
       "      <td>0</td>\n",
       "      <td>19943</td>\n",
       "      <td>90</td>\n",
       "      <td>C93</td>\n",
       "      <td>S</td>\n",
       "      <td>Titanic</td>\n",
       "    </tr>\n",
       "  </tbody>\n",
       "</table>\n",
       "</div>"
      ],
      "text/plain": [
       "    PassengerId  Survived  Pclass                  FirstName  LastName  \\\n",
       "887         888         1     1.0             Margaret Edith    Graham   \n",
       "888         889         0     3.0   Catherine Helen \"Carrie\"  Johnston   \n",
       "889         890         1     1.0                Karl Howell      Behr   \n",
       "890         891         0     3.0                    Patrick    Dooley   \n",
       "891        1000         1     1.0         Frederick Maxfield      Hoyt   \n",
       "\n",
       "        Sex   Age  SibSp Parch      Ticket   Fare Cabin Embarked     ship  \n",
       "887  Female  19.0      0     0      112053     30   B42        S  Titanic  \n",
       "888  Female   NaN      1     2  W./C. 6607  23,45   NaN        S  Titanic  \n",
       "889    Male  26.0      0     0      111369     30  C148        C  Titanic  \n",
       "890    Male  32.0      0     0      370376   7,75   NaN        Q  Titanic  \n",
       "891    Male  38.0      1     0       19943     90   C93        S  Titanic  "
      ]
     },
     "execution_count": 137,
     "metadata": {},
     "output_type": "execute_result"
    }
   ],
   "source": [
    "# round the numbers of age\n",
    "\n",
    "df_titanic['Age'] = np.round(df_titanic['Age'])\n",
    "df_titanic.tail(5)"
   ]
  },
  {
   "cell_type": "markdown",
   "id": "cbe5d150",
   "metadata": {},
   "source": [
    "### Pclass"
   ]
  },
  {
   "cell_type": "code",
   "execution_count": 138,
   "id": "24bb4824",
   "metadata": {
    "scrolled": true
   },
   "outputs": [
    {
     "data": {
      "text/plain": [
       " 3.0    489\n",
       " 1.0    214\n",
       " 2.0    184\n",
       "-2.0      1\n",
       "Name: Pclass, dtype: int64"
      ]
     },
     "execution_count": 138,
     "metadata": {},
     "output_type": "execute_result"
    }
   ],
   "source": [
    "df_titanic['Pclass'].value_counts()"
   ]
  },
  {
   "cell_type": "markdown",
   "id": "1ba2ad66",
   "metadata": {},
   "source": [
    "There is a value that does not match with other values, probably it is a typo. Thus, we need to change it to proper value."
   ]
  },
  {
   "cell_type": "code",
   "execution_count": 139,
   "id": "2735f861",
   "metadata": {},
   "outputs": [
    {
     "data": {
      "text/plain": [
       "3.0    489\n",
       "1.0    214\n",
       "2.0    185\n",
       "Name: Pclass, dtype: int64"
      ]
     },
     "execution_count": 139,
     "metadata": {},
     "output_type": "execute_result"
    }
   ],
   "source": [
    "df_titanic['Pclass'] = df_titanic['Pclass'].replace(-2,2)\n",
    "df_titanic['Pclass'].value_counts()"
   ]
  },
  {
   "cell_type": "code",
   "execution_count": 140,
   "id": "19f1d2ef",
   "metadata": {},
   "outputs": [
    {
     "name": "stdout",
     "output_type": "stream",
     "text": [
      "<class 'pandas.core.frame.DataFrame'>\n",
      "Int64Index: 888 entries, 0 to 891\n",
      "Data columns (total 14 columns):\n",
      " #   Column       Non-Null Count  Dtype  \n",
      "---  ------       --------------  -----  \n",
      " 0   PassengerId  888 non-null    object \n",
      " 1   Survived     888 non-null    int64  \n",
      " 2   Pclass       888 non-null    int64  \n",
      " 3   FirstName    888 non-null    object \n",
      " 4   LastName     888 non-null    object \n",
      " 5   Sex          888 non-null    object \n",
      " 6   Age          715 non-null    float64\n",
      " 7   SibSp        888 non-null    int64  \n",
      " 8   Parch        888 non-null    object \n",
      " 9   Ticket       887 non-null    object \n",
      " 10  Fare         887 non-null    object \n",
      " 11  Cabin        203 non-null    object \n",
      " 12  Embarked     886 non-null    object \n",
      " 13  ship         888 non-null    object \n",
      "dtypes: float64(1), int64(3), object(10)\n",
      "memory usage: 104.1+ KB\n"
     ]
    }
   ],
   "source": [
    "#change the data type\n",
    "\n",
    "df_titanic['Pclass'] = df_titanic['Pclass'].astype(int)\n",
    "\n",
    "df_titanic.info()"
   ]
  },
  {
   "cell_type": "markdown",
   "id": "03543752",
   "metadata": {},
   "source": [
    "### Parch"
   ]
  },
  {
   "cell_type": "code",
   "execution_count": 141,
   "id": "e65b112d",
   "metadata": {},
   "outputs": [
    {
     "data": {
      "text/plain": [
       "0     676\n",
       "1     118\n",
       "2      80\n",
       "3       5\n",
       "5       4\n",
       "4       4\n",
       "no      1\n",
       "Name: Parch, dtype: int64"
      ]
     },
     "execution_count": 141,
     "metadata": {},
     "output_type": "execute_result"
    }
   ],
   "source": [
    "df_titanic['Parch'].value_counts()"
   ]
  },
  {
   "cell_type": "code",
   "execution_count": 142,
   "id": "1468d344",
   "metadata": {},
   "outputs": [
    {
     "data": {
      "text/html": [
       "<div>\n",
       "<style scoped>\n",
       "    .dataframe tbody tr th:only-of-type {\n",
       "        vertical-align: middle;\n",
       "    }\n",
       "\n",
       "    .dataframe tbody tr th {\n",
       "        vertical-align: top;\n",
       "    }\n",
       "\n",
       "    .dataframe thead th {\n",
       "        text-align: right;\n",
       "    }\n",
       "</style>\n",
       "<table border=\"1\" class=\"dataframe\">\n",
       "  <thead>\n",
       "    <tr style=\"text-align: right;\">\n",
       "      <th></th>\n",
       "      <th>PassengerId</th>\n",
       "      <th>Survived</th>\n",
       "      <th>Pclass</th>\n",
       "      <th>FirstName</th>\n",
       "      <th>LastName</th>\n",
       "      <th>Sex</th>\n",
       "      <th>Age</th>\n",
       "      <th>SibSp</th>\n",
       "      <th>Parch</th>\n",
       "      <th>Ticket</th>\n",
       "      <th>Fare</th>\n",
       "      <th>Cabin</th>\n",
       "      <th>Embarked</th>\n",
       "      <th>ship</th>\n",
       "    </tr>\n",
       "  </thead>\n",
       "  <tbody>\n",
       "    <tr>\n",
       "      <th>376</th>\n",
       "      <td>377</td>\n",
       "      <td>1</td>\n",
       "      <td>3</td>\n",
       "      <td>Aurora Adelia</td>\n",
       "      <td>Landergren</td>\n",
       "      <td>Female</td>\n",
       "      <td>22.0</td>\n",
       "      <td>0</td>\n",
       "      <td>no</td>\n",
       "      <td>C 7077</td>\n",
       "      <td>7,25</td>\n",
       "      <td>NaN</td>\n",
       "      <td>S</td>\n",
       "      <td>Titanic</td>\n",
       "    </tr>\n",
       "  </tbody>\n",
       "</table>\n",
       "</div>"
      ],
      "text/plain": [
       "    PassengerId  Survived  Pclass       FirstName    LastName     Sex   Age  \\\n",
       "376         377         1       3   Aurora Adelia  Landergren  Female  22.0   \n",
       "\n",
       "     SibSp Parch  Ticket  Fare Cabin Embarked     ship  \n",
       "376      0    no  C 7077  7,25   NaN        S  Titanic  "
      ]
     },
     "execution_count": 142,
     "metadata": {},
     "output_type": "execute_result"
    }
   ],
   "source": [
    "df_titanic[df_titanic['Parch'].str.contains('no')]\n"
   ]
  },
  {
   "cell_type": "markdown",
   "id": "e3e29326",
   "metadata": {},
   "source": [
    "There is a inconsistent value in Parch column, so we need to change it. this time we will change it to the NaN value and it will be executed later when handling missing values."
   ]
  },
  {
   "cell_type": "code",
   "execution_count": 143,
   "id": "cb0408d9",
   "metadata": {},
   "outputs": [
    {
     "data": {
      "text/plain": [
       "0    676\n",
       "1    118\n",
       "2     80\n",
       "3      5\n",
       "5      4\n",
       "4      4\n",
       "Name: Parch, dtype: int64"
      ]
     },
     "execution_count": 143,
     "metadata": {},
     "output_type": "execute_result"
    }
   ],
   "source": [
    "#changing the value \"no\" with mode \n",
    "\n",
    "df_titanic['Parch'] = df_titanic['Parch'].replace('no', np.NaN)\n",
    "\n",
    "df_titanic['Parch'].value_counts()"
   ]
  },
  {
   "cell_type": "code",
   "execution_count": 144,
   "id": "da7484ed",
   "metadata": {},
   "outputs": [
    {
     "name": "stdout",
     "output_type": "stream",
     "text": [
      "<class 'pandas.core.frame.DataFrame'>\n",
      "Int64Index: 888 entries, 0 to 891\n",
      "Data columns (total 14 columns):\n",
      " #   Column       Non-Null Count  Dtype  \n",
      "---  ------       --------------  -----  \n",
      " 0   PassengerId  888 non-null    object \n",
      " 1   Survived     888 non-null    int64  \n",
      " 2   Pclass       888 non-null    int64  \n",
      " 3   FirstName    888 non-null    object \n",
      " 4   LastName     888 non-null    object \n",
      " 5   Sex          888 non-null    object \n",
      " 6   Age          715 non-null    float64\n",
      " 7   SibSp        888 non-null    int64  \n",
      " 8   Parch        887 non-null    float64\n",
      " 9   Ticket       887 non-null    object \n",
      " 10  Fare         887 non-null    object \n",
      " 11  Cabin        203 non-null    object \n",
      " 12  Embarked     886 non-null    object \n",
      " 13  ship         888 non-null    object \n",
      "dtypes: float64(2), int64(3), object(9)\n",
      "memory usage: 104.1+ KB\n"
     ]
    }
   ],
   "source": [
    "#change the data type\n",
    "\n",
    "df_titanic['Parch'] = df_titanic['Parch'].astype(float)\n",
    "df_titanic.info()"
   ]
  },
  {
   "cell_type": "markdown",
   "id": "038ee2b1",
   "metadata": {},
   "source": [
    "### Fare"
   ]
  },
  {
   "cell_type": "code",
   "execution_count": 145,
   "id": "174e623e",
   "metadata": {},
   "outputs": [
    {
     "data": {
      "text/html": [
       "<div>\n",
       "<style scoped>\n",
       "    .dataframe tbody tr th:only-of-type {\n",
       "        vertical-align: middle;\n",
       "    }\n",
       "\n",
       "    .dataframe tbody tr th {\n",
       "        vertical-align: top;\n",
       "    }\n",
       "\n",
       "    .dataframe thead th {\n",
       "        text-align: right;\n",
       "    }\n",
       "</style>\n",
       "<table border=\"1\" class=\"dataframe\">\n",
       "  <thead>\n",
       "    <tr style=\"text-align: right;\">\n",
       "      <th></th>\n",
       "      <th>PassengerId</th>\n",
       "      <th>Survived</th>\n",
       "      <th>Pclass</th>\n",
       "      <th>FirstName</th>\n",
       "      <th>LastName</th>\n",
       "      <th>Sex</th>\n",
       "      <th>Age</th>\n",
       "      <th>SibSp</th>\n",
       "      <th>Parch</th>\n",
       "      <th>Ticket</th>\n",
       "      <th>Fare</th>\n",
       "      <th>Cabin</th>\n",
       "      <th>Embarked</th>\n",
       "      <th>ship</th>\n",
       "    </tr>\n",
       "  </thead>\n",
       "  <tbody>\n",
       "    <tr>\n",
       "      <th>363</th>\n",
       "      <td>364</td>\n",
       "      <td>0</td>\n",
       "      <td>3</td>\n",
       "      <td>Adola</td>\n",
       "      <td>Asim</td>\n",
       "      <td>Male</td>\n",
       "      <td>35.0</td>\n",
       "      <td>0</td>\n",
       "      <td>0.0</td>\n",
       "      <td>SOTON/O.Q. 3101310</td>\n",
       "      <td>07.maj</td>\n",
       "      <td>NaN</td>\n",
       "      <td>S</td>\n",
       "      <td>Titanic</td>\n",
       "    </tr>\n",
       "  </tbody>\n",
       "</table>\n",
       "</div>"
      ],
      "text/plain": [
       "    PassengerId  Survived  Pclass FirstName LastName   Sex   Age  SibSp  \\\n",
       "363         364         0       3     Adola     Asim  Male  35.0      0   \n",
       "\n",
       "     Parch              Ticket    Fare Cabin Embarked     ship  \n",
       "363    0.0  SOTON/O.Q. 3101310  07.maj   NaN        S  Titanic  "
      ]
     },
     "execution_count": 145,
     "metadata": {},
     "output_type": "execute_result"
    }
   ],
   "source": [
    "df_titanic[df_titanic['Fare'].str.find('a') > -1]"
   ]
  },
  {
   "cell_type": "markdown",
   "id": "99d24efe",
   "metadata": {},
   "source": [
    "We will change the inconsitent value with NaN value."
   ]
  },
  {
   "cell_type": "code",
   "execution_count": 146,
   "id": "16032c6e",
   "metadata": {},
   "outputs": [],
   "source": [
    "df_titanic['Fare'] = df_titanic['Fare'].str.replace(',','.')\n",
    "df_titanic['Fare'] = df_titanic['Fare'].replace('07.maj', np.NaN)"
   ]
  },
  {
   "cell_type": "code",
   "execution_count": 147,
   "id": "1876472e",
   "metadata": {},
   "outputs": [
    {
     "data": {
      "text/html": [
       "<div>\n",
       "<style scoped>\n",
       "    .dataframe tbody tr th:only-of-type {\n",
       "        vertical-align: middle;\n",
       "    }\n",
       "\n",
       "    .dataframe tbody tr th {\n",
       "        vertical-align: top;\n",
       "    }\n",
       "\n",
       "    .dataframe thead th {\n",
       "        text-align: right;\n",
       "    }\n",
       "</style>\n",
       "<table border=\"1\" class=\"dataframe\">\n",
       "  <thead>\n",
       "    <tr style=\"text-align: right;\">\n",
       "      <th></th>\n",
       "      <th>PassengerId</th>\n",
       "      <th>Survived</th>\n",
       "      <th>Pclass</th>\n",
       "      <th>FirstName</th>\n",
       "      <th>LastName</th>\n",
       "      <th>Sex</th>\n",
       "      <th>Age</th>\n",
       "      <th>SibSp</th>\n",
       "      <th>Parch</th>\n",
       "      <th>Ticket</th>\n",
       "      <th>Fare</th>\n",
       "      <th>Cabin</th>\n",
       "      <th>Embarked</th>\n",
       "      <th>ship</th>\n",
       "    </tr>\n",
       "  </thead>\n",
       "  <tbody>\n",
       "    <tr>\n",
       "      <th>887</th>\n",
       "      <td>888</td>\n",
       "      <td>1</td>\n",
       "      <td>1</td>\n",
       "      <td>Margaret Edith</td>\n",
       "      <td>Graham</td>\n",
       "      <td>Female</td>\n",
       "      <td>19.0</td>\n",
       "      <td>0</td>\n",
       "      <td>0.0</td>\n",
       "      <td>112053</td>\n",
       "      <td>30.00</td>\n",
       "      <td>B42</td>\n",
       "      <td>S</td>\n",
       "      <td>Titanic</td>\n",
       "    </tr>\n",
       "    <tr>\n",
       "      <th>888</th>\n",
       "      <td>889</td>\n",
       "      <td>0</td>\n",
       "      <td>3</td>\n",
       "      <td>Catherine Helen \"Carrie\"</td>\n",
       "      <td>Johnston</td>\n",
       "      <td>Female</td>\n",
       "      <td>NaN</td>\n",
       "      <td>1</td>\n",
       "      <td>2.0</td>\n",
       "      <td>W./C. 6607</td>\n",
       "      <td>23.45</td>\n",
       "      <td>NaN</td>\n",
       "      <td>S</td>\n",
       "      <td>Titanic</td>\n",
       "    </tr>\n",
       "    <tr>\n",
       "      <th>889</th>\n",
       "      <td>890</td>\n",
       "      <td>1</td>\n",
       "      <td>1</td>\n",
       "      <td>Karl Howell</td>\n",
       "      <td>Behr</td>\n",
       "      <td>Male</td>\n",
       "      <td>26.0</td>\n",
       "      <td>0</td>\n",
       "      <td>0.0</td>\n",
       "      <td>111369</td>\n",
       "      <td>30.00</td>\n",
       "      <td>C148</td>\n",
       "      <td>C</td>\n",
       "      <td>Titanic</td>\n",
       "    </tr>\n",
       "    <tr>\n",
       "      <th>890</th>\n",
       "      <td>891</td>\n",
       "      <td>0</td>\n",
       "      <td>3</td>\n",
       "      <td>Patrick</td>\n",
       "      <td>Dooley</td>\n",
       "      <td>Male</td>\n",
       "      <td>32.0</td>\n",
       "      <td>0</td>\n",
       "      <td>0.0</td>\n",
       "      <td>370376</td>\n",
       "      <td>7.75</td>\n",
       "      <td>NaN</td>\n",
       "      <td>Q</td>\n",
       "      <td>Titanic</td>\n",
       "    </tr>\n",
       "    <tr>\n",
       "      <th>891</th>\n",
       "      <td>1000</td>\n",
       "      <td>1</td>\n",
       "      <td>1</td>\n",
       "      <td>Frederick Maxfield</td>\n",
       "      <td>Hoyt</td>\n",
       "      <td>Male</td>\n",
       "      <td>38.0</td>\n",
       "      <td>1</td>\n",
       "      <td>0.0</td>\n",
       "      <td>19943</td>\n",
       "      <td>90.00</td>\n",
       "      <td>C93</td>\n",
       "      <td>S</td>\n",
       "      <td>Titanic</td>\n",
       "    </tr>\n",
       "  </tbody>\n",
       "</table>\n",
       "</div>"
      ],
      "text/plain": [
       "    PassengerId  Survived  Pclass                  FirstName  LastName  \\\n",
       "887         888         1       1             Margaret Edith    Graham   \n",
       "888         889         0       3   Catherine Helen \"Carrie\"  Johnston   \n",
       "889         890         1       1                Karl Howell      Behr   \n",
       "890         891         0       3                    Patrick    Dooley   \n",
       "891        1000         1       1         Frederick Maxfield      Hoyt   \n",
       "\n",
       "        Sex   Age  SibSp  Parch      Ticket   Fare Cabin Embarked     ship  \n",
       "887  Female  19.0      0    0.0      112053  30.00   B42        S  Titanic  \n",
       "888  Female   NaN      1    2.0  W./C. 6607  23.45   NaN        S  Titanic  \n",
       "889    Male  26.0      0    0.0      111369  30.00  C148        C  Titanic  \n",
       "890    Male  32.0      0    0.0      370376   7.75   NaN        Q  Titanic  \n",
       "891    Male  38.0      1    0.0       19943  90.00   C93        S  Titanic  "
      ]
     },
     "execution_count": 147,
     "metadata": {},
     "output_type": "execute_result"
    }
   ],
   "source": [
    "#change the data type and round the numbers\n",
    "\n",
    "df_titanic['Fare'] = df_titanic['Fare'].astype(float)\n",
    "df_titanic['Fare'] = np.round(df_titanic['Fare'],2)\n",
    "df_titanic.tail(5)"
   ]
  },
  {
   "cell_type": "markdown",
   "id": "9c6e7162",
   "metadata": {},
   "source": [
    "### Embarked"
   ]
  },
  {
   "cell_type": "code",
   "execution_count": 148,
   "id": "918219dd",
   "metadata": {},
   "outputs": [
    {
     "data": {
      "text/plain": [
       "S     639\n",
       "C     167\n",
       "Q      76\n",
       "So      2\n",
       "Co      1\n",
       "Qe      1\n",
       "Name: Embarked, dtype: int64"
      ]
     },
     "execution_count": 148,
     "metadata": {},
     "output_type": "execute_result"
    }
   ],
   "source": [
    "df_titanic['Embarked'].value_counts()"
   ]
  },
  {
   "cell_type": "markdown",
   "id": "73b58940",
   "metadata": {},
   "source": [
    "We will change the value \"So\",\"Co\",\"Qe\" to \"S\",\"Q\",\"C\"."
   ]
  },
  {
   "cell_type": "code",
   "execution_count": 149,
   "id": "84780c05",
   "metadata": {},
   "outputs": [
    {
     "data": {
      "text/plain": [
       "S    641\n",
       "C    168\n",
       "Q     77\n",
       "Name: Embarked, dtype: int64"
      ]
     },
     "execution_count": 149,
     "metadata": {},
     "output_type": "execute_result"
    }
   ],
   "source": [
    "#change the label\n",
    "\n",
    "# \"So\"\n",
    "df_titanic['Embarked'] = df_titanic['Embarked'].replace('So','S')\n",
    "\n",
    "# \"Co\"\n",
    "df_titanic['Embarked'] = df_titanic['Embarked'].replace('Co','C')\n",
    "\n",
    "# \"Qe\"\n",
    "df_titanic['Embarked'] = df_titanic['Embarked'].replace('Qe','Q')\n",
    "\n",
    "df_titanic['Embarked'].value_counts()"
   ]
  },
  {
   "cell_type": "markdown",
   "id": "8b739098",
   "metadata": {},
   "source": [
    "### Ship\n"
   ]
  },
  {
   "cell_type": "code",
   "execution_count": 150,
   "id": "fcee4749",
   "metadata": {},
   "outputs": [
    {
     "data": {
      "text/plain": [
       "Titanic    886\n",
       "Titani       1\n",
       "Titnic       1\n",
       "Name: ship, dtype: int64"
      ]
     },
     "execution_count": 150,
     "metadata": {},
     "output_type": "execute_result"
    }
   ],
   "source": [
    "df_titanic['ship'].value_counts()"
   ]
  },
  {
   "cell_type": "code",
   "execution_count": 151,
   "id": "78e4433b",
   "metadata": {},
   "outputs": [
    {
     "data": {
      "text/plain": [
       "Titanic    888\n",
       "Name: ship, dtype: int64"
      ]
     },
     "execution_count": 151,
     "metadata": {},
     "output_type": "execute_result"
    }
   ],
   "source": [
    "#Change the inconsistent values \n",
    "\n",
    "df_titanic['ship'] = df_titanic['ship'].replace(['Titani','Titnic'],'Titanic')\n",
    "df_titanic['ship'].value_counts()"
   ]
  },
  {
   "cell_type": "code",
   "execution_count": 152,
   "id": "8828e9e6",
   "metadata": {},
   "outputs": [
    {
     "data": {
      "text/html": [
       "<div>\n",
       "<style scoped>\n",
       "    .dataframe tbody tr th:only-of-type {\n",
       "        vertical-align: middle;\n",
       "    }\n",
       "\n",
       "    .dataframe tbody tr th {\n",
       "        vertical-align: top;\n",
       "    }\n",
       "\n",
       "    .dataframe thead th {\n",
       "        text-align: right;\n",
       "    }\n",
       "</style>\n",
       "<table border=\"1\" class=\"dataframe\">\n",
       "  <thead>\n",
       "    <tr style=\"text-align: right;\">\n",
       "      <th></th>\n",
       "      <th>PassengerId</th>\n",
       "      <th>Survived</th>\n",
       "      <th>Pclass</th>\n",
       "      <th>FirstName</th>\n",
       "      <th>LastName</th>\n",
       "      <th>Sex</th>\n",
       "      <th>Age</th>\n",
       "      <th>SibSp</th>\n",
       "      <th>Parch</th>\n",
       "      <th>Ticket</th>\n",
       "      <th>Fare</th>\n",
       "      <th>Cabin</th>\n",
       "      <th>Embarked</th>\n",
       "      <th>Ship</th>\n",
       "    </tr>\n",
       "  </thead>\n",
       "  <tbody>\n",
       "    <tr>\n",
       "      <th>0</th>\n",
       "      <td>1</td>\n",
       "      <td>0</td>\n",
       "      <td>3</td>\n",
       "      <td>Owen Harris</td>\n",
       "      <td>Braund</td>\n",
       "      <td>Male</td>\n",
       "      <td>22.0</td>\n",
       "      <td>1</td>\n",
       "      <td>0.0</td>\n",
       "      <td>A/5 21171</td>\n",
       "      <td>7.25</td>\n",
       "      <td>NaN</td>\n",
       "      <td>S</td>\n",
       "      <td>Titanic</td>\n",
       "    </tr>\n",
       "  </tbody>\n",
       "</table>\n",
       "</div>"
      ],
      "text/plain": [
       "  PassengerId  Survived  Pclass     FirstName LastName   Sex   Age  SibSp  \\\n",
       "0           1         0       3   Owen Harris   Braund  Male  22.0      1   \n",
       "\n",
       "   Parch     Ticket  Fare Cabin Embarked     Ship  \n",
       "0    0.0  A/5 21171  7.25   NaN        S  Titanic  "
      ]
     },
     "execution_count": 152,
     "metadata": {},
     "output_type": "execute_result"
    }
   ],
   "source": [
    "#Change the column name into Title\n",
    "df_titanic.rename(columns = {'ship':'Ship'}, inplace = True)\n",
    "df_titanic.head(1)"
   ]
  },
  {
   "cell_type": "markdown",
   "id": "406ca2c4",
   "metadata": {},
   "source": [
    "## Handling missing values"
   ]
  },
  {
   "cell_type": "code",
   "execution_count": 153,
   "id": "c7266bea",
   "metadata": {},
   "outputs": [
    {
     "data": {
      "text/plain": [
       "PassengerId      0\n",
       "Survived         0\n",
       "Pclass           0\n",
       "FirstName        0\n",
       "LastName         0\n",
       "Sex              0\n",
       "Age            173\n",
       "SibSp            0\n",
       "Parch            1\n",
       "Ticket           1\n",
       "Fare             2\n",
       "Cabin          685\n",
       "Embarked         2\n",
       "Ship             0\n",
       "dtype: int64"
      ]
     },
     "execution_count": 153,
     "metadata": {},
     "output_type": "execute_result"
    }
   ],
   "source": [
    "df_titanic.isna().sum()"
   ]
  },
  {
   "cell_type": "code",
   "execution_count": 154,
   "id": "b528ef37",
   "metadata": {},
   "outputs": [
    {
     "data": {
      "text/plain": [
       "PassengerId    0.000000\n",
       "Survived       0.000000\n",
       "Pclass         0.000000\n",
       "FirstName      0.000000\n",
       "LastName       0.000000\n",
       "Sex            0.000000\n",
       "Age            0.194820\n",
       "SibSp          0.000000\n",
       "Parch          0.001126\n",
       "Ticket         0.001126\n",
       "Fare           0.002252\n",
       "Cabin          0.771396\n",
       "Embarked       0.002252\n",
       "Ship           0.000000\n",
       "dtype: float64"
      ]
     },
     "execution_count": 154,
     "metadata": {},
     "output_type": "execute_result"
    }
   ],
   "source": [
    "df_titanic.isnull().mean()"
   ]
  },
  {
   "cell_type": "markdown",
   "id": "3f11f81e",
   "metadata": {},
   "source": [
    "We can see that age, ticket, fare, cabin and embarked columns have missing values. "
   ]
  },
  {
   "cell_type": "markdown",
   "id": "da39a799",
   "metadata": {},
   "source": [
    "### Age column"
   ]
  },
  {
   "cell_type": "markdown",
   "id": "4437df22",
   "metadata": {},
   "source": [
    "we will fill the missing values with median value of age. "
   ]
  },
  {
   "cell_type": "code",
   "execution_count": 155,
   "id": "a2ab65fb",
   "metadata": {},
   "outputs": [
    {
     "data": {
      "image/png": "[encoded data removed]",
      "text/plain": [
       "<Figure size 640x480 with 1 Axes>"
      ]
     },
     "metadata": {},
     "output_type": "display_data"
    }
   ],
   "source": [
    "sns.distplot(df_titanic.Age)\n",
    "plt.show()"
   ]
  },
  {
   "cell_type": "code",
   "execution_count": 156,
   "id": "7fa06000",
   "metadata": {},
   "outputs": [
    {
     "data": {
      "text/plain": [
       "28.0"
      ]
     },
     "execution_count": 156,
     "metadata": {},
     "output_type": "execute_result"
    }
   ],
   "source": [
    "df_titanic['Age'].median()"
   ]
  },
  {
   "cell_type": "code",
   "execution_count": 157,
   "id": "7996fb7b",
   "metadata": {},
   "outputs": [
    {
     "data": {
      "text/plain": [
       "PassengerId      0\n",
       "Survived         0\n",
       "Pclass           0\n",
       "FirstName        0\n",
       "LastName         0\n",
       "Sex              0\n",
       "Age              0\n",
       "SibSp            0\n",
       "Parch            1\n",
       "Ticket           1\n",
       "Fare             2\n",
       "Cabin          685\n",
       "Embarked         2\n",
       "Ship             0\n",
       "dtype: int64"
      ]
     },
     "execution_count": 157,
     "metadata": {},
     "output_type": "execute_result"
    }
   ],
   "source": [
    "df_titanic['Age'] = df_titanic['Age'].fillna(df_titanic['Age'].median())\n",
    "df_titanic.isna().sum()\n",
    "\n",
    "#df['rating'] = df['rating'].fillna(df['rating'].median())"
   ]
  },
  {
   "cell_type": "markdown",
   "id": "95af78c8",
   "metadata": {},
   "source": [
    "### Parch column"
   ]
  },
  {
   "cell_type": "markdown",
   "id": "81ded1c0",
   "metadata": {},
   "source": [
    "we will fill the missing values with median values."
   ]
  },
  {
   "cell_type": "code",
   "execution_count": 158,
   "id": "418f19a3",
   "metadata": {},
   "outputs": [
    {
     "data": {
      "text/plain": [
       "0.0    676\n",
       "1.0    118\n",
       "2.0     80\n",
       "3.0      5\n",
       "5.0      4\n",
       "4.0      4\n",
       "Name: Parch, dtype: int64"
      ]
     },
     "execution_count": 158,
     "metadata": {},
     "output_type": "execute_result"
    }
   ],
   "source": [
    "df_titanic['Parch'].value_counts()"
   ]
  },
  {
   "cell_type": "code",
   "execution_count": 159,
   "id": "dbed12a5",
   "metadata": {},
   "outputs": [
    {
     "data": {
      "text/plain": [
       "1"
      ]
     },
     "execution_count": 159,
     "metadata": {},
     "output_type": "execute_result"
    }
   ],
   "source": [
    "df_titanic['Parch'].isna().sum()"
   ]
  },
  {
   "cell_type": "code",
   "execution_count": 160,
   "id": "b619dfc6",
   "metadata": {},
   "outputs": [
    {
     "data": {
      "text/plain": [
       "0"
      ]
     },
     "execution_count": 160,
     "metadata": {},
     "output_type": "execute_result"
    }
   ],
   "source": [
    "df_titanic['Parch'] = df_titanic['Parch'].fillna(df_titanic['Parch'].median())\n",
    "df_titanic['Parch'].isna().sum()"
   ]
  },
  {
   "cell_type": "markdown",
   "id": "33985c0e",
   "metadata": {},
   "source": [
    "### Ticket column\n"
   ]
  },
  {
   "cell_type": "code",
   "execution_count": 161,
   "id": "be538781",
   "metadata": {},
   "outputs": [
    {
     "data": {
      "text/plain": [
       "1601        7\n",
       "CA. 2343    7\n",
       "347082      6\n",
       "3101295     6\n",
       "347088      6\n",
       "           ..\n",
       "226593      1\n",
       "9234        1\n",
       "19988       1\n",
       "2693        1\n",
       "370376      1\n",
       "Name: Ticket, Length: 680, dtype: int64"
      ]
     },
     "execution_count": 161,
     "metadata": {},
     "output_type": "execute_result"
    }
   ],
   "source": [
    "df_titanic['Ticket'].value_counts()"
   ]
  },
  {
   "cell_type": "markdown",
   "id": "45a9e7b2",
   "metadata": {},
   "source": [
    "we will fill the missing value in ticket column with most frequent value."
   ]
  },
  {
   "cell_type": "code",
   "execution_count": 162,
   "id": "4e35369a",
   "metadata": {},
   "outputs": [
    {
     "data": {
      "text/plain": [
       "0        1601\n",
       "1    CA. 2343\n",
       "Name: Ticket, dtype: object"
      ]
     },
     "execution_count": 162,
     "metadata": {},
     "output_type": "execute_result"
    }
   ],
   "source": [
    "df_titanic['Ticket'].mode()"
   ]
  },
  {
   "cell_type": "code",
   "execution_count": 163,
   "id": "6bff16f5",
   "metadata": {},
   "outputs": [
    {
     "data": {
      "text/plain": [
       "PassengerId      0\n",
       "Survived         0\n",
       "Pclass           0\n",
       "FirstName        0\n",
       "LastName         0\n",
       "Sex              0\n",
       "Age              0\n",
       "SibSp            0\n",
       "Parch            0\n",
       "Ticket           0\n",
       "Fare             2\n",
       "Cabin          685\n",
       "Embarked         2\n",
       "Ship             0\n",
       "dtype: int64"
      ]
     },
     "execution_count": 163,
     "metadata": {},
     "output_type": "execute_result"
    }
   ],
   "source": [
    "df_titanic['Ticket'].fillna(df_titanic['Ticket'].mode()[0], inplace = True)\n",
    "df_titanic.isna().sum()"
   ]
  },
  {
   "cell_type": "code",
   "execution_count": 164,
   "id": "5c08231b",
   "metadata": {},
   "outputs": [
    {
     "data": {
      "text/plain": [
       "8.05     43\n",
       "13.00    42\n",
       "7.90     38\n",
       "7.75     34\n",
       "26.00    31\n",
       "         ..\n",
       "12.65     1\n",
       "7.31      1\n",
       "12.00     1\n",
       "61.38     1\n",
       "10.52     1\n",
       "Name: Fare, Length: 237, dtype: int64"
      ]
     },
     "execution_count": 164,
     "metadata": {},
     "output_type": "execute_result"
    }
   ],
   "source": [
    "df_titanic['Fare'].value_counts()"
   ]
  },
  {
   "cell_type": "markdown",
   "id": "b3140860",
   "metadata": {},
   "source": [
    "### Fare Column"
   ]
  },
  {
   "cell_type": "markdown",
   "id": "3d927bc1",
   "metadata": {},
   "source": [
    "we will fill the fare column with median value because it looks like the data is right skewed. Thus, it is better to use median."
   ]
  },
  {
   "cell_type": "code",
   "execution_count": 165,
   "id": "c7ef13a4",
   "metadata": {},
   "outputs": [
    {
     "data": {
      "image/png": "[encoded data removed]",
      "text/plain": [
       "<Figure size 640x480 with 1 Axes>"
      ]
     },
     "metadata": {},
     "output_type": "display_data"
    }
   ],
   "source": [
    "sns.distplot(df_titanic.Fare)\n",
    "plt.show()"
   ]
  },
  {
   "cell_type": "code",
   "execution_count": 166,
   "id": "af0586ed",
   "metadata": {},
   "outputs": [
    {
     "data": {
      "text/plain": [
       "PassengerId      0\n",
       "Survived         0\n",
       "Pclass           0\n",
       "FirstName        0\n",
       "LastName         0\n",
       "Sex              0\n",
       "Age              0\n",
       "SibSp            0\n",
       "Parch            0\n",
       "Ticket           0\n",
       "Fare             0\n",
       "Cabin          685\n",
       "Embarked         2\n",
       "Ship             0\n",
       "dtype: int64"
      ]
     },
     "execution_count": 166,
     "metadata": {},
     "output_type": "execute_result"
    }
   ],
   "source": [
    "df_titanic['Fare'] = df_titanic['Fare'].fillna(df_titanic['Fare'].median())\n",
    "df_titanic.isna().sum()"
   ]
  },
  {
   "cell_type": "markdown",
   "id": "e260c6a0",
   "metadata": {},
   "source": [
    "### Cabin Column"
   ]
  },
  {
   "cell_type": "code",
   "execution_count": 167,
   "id": "5a51b164",
   "metadata": {},
   "outputs": [
    {
     "data": {
      "text/plain": [
       "0        B96 B98\n",
       "1    C23 C25 C27\n",
       "2             G6\n",
       "Name: Cabin, dtype: object"
      ]
     },
     "execution_count": 167,
     "metadata": {},
     "output_type": "execute_result"
    }
   ],
   "source": [
    "df_titanic['Cabin'].mode()"
   ]
  },
  {
   "cell_type": "markdown",
   "id": "b1baeef9",
   "metadata": {},
   "source": [
    "Since it is categorical value, we will change the missing values with the most frequent values."
   ]
  },
  {
   "cell_type": "code",
   "execution_count": 168,
   "id": "35cb44f4",
   "metadata": {},
   "outputs": [
    {
     "data": {
      "text/plain": [
       "PassengerId    0\n",
       "Survived       0\n",
       "Pclass         0\n",
       "FirstName      0\n",
       "LastName       0\n",
       "Sex            0\n",
       "Age            0\n",
       "SibSp          0\n",
       "Parch          0\n",
       "Ticket         0\n",
       "Fare           0\n",
       "Cabin          0\n",
       "Embarked       2\n",
       "Ship           0\n",
       "dtype: int64"
      ]
     },
     "execution_count": 168,
     "metadata": {},
     "output_type": "execute_result"
    }
   ],
   "source": [
    "df_titanic['Cabin'].fillna(df_titanic['Cabin'].mode()[0], inplace = True)\n",
    "df_titanic.isna().sum()"
   ]
  },
  {
   "cell_type": "markdown",
   "id": "5bdaf7a8",
   "metadata": {},
   "source": [
    "### Embarked Column"
   ]
  },
  {
   "cell_type": "code",
   "execution_count": 169,
   "id": "09a2cc4d",
   "metadata": {},
   "outputs": [
    {
     "data": {
      "text/plain": [
       "0    S\n",
       "Name: Embarked, dtype: object"
      ]
     },
     "execution_count": 169,
     "metadata": {},
     "output_type": "execute_result"
    }
   ],
   "source": [
    "df_titanic['Embarked'].mode()"
   ]
  },
  {
   "cell_type": "markdown",
   "id": "41e5b641",
   "metadata": {},
   "source": [
    "we will change the missing values with the most frequent values."
   ]
  },
  {
   "cell_type": "code",
   "execution_count": 170,
   "id": "114c5d3e",
   "metadata": {},
   "outputs": [
    {
     "data": {
      "text/plain": [
       "PassengerId    0\n",
       "Survived       0\n",
       "Pclass         0\n",
       "FirstName      0\n",
       "LastName       0\n",
       "Sex            0\n",
       "Age            0\n",
       "SibSp          0\n",
       "Parch          0\n",
       "Ticket         0\n",
       "Fare           0\n",
       "Cabin          0\n",
       "Embarked       0\n",
       "Ship           0\n",
       "dtype: int64"
      ]
     },
     "execution_count": 170,
     "metadata": {},
     "output_type": "execute_result"
    }
   ],
   "source": [
    "df_titanic['Embarked'].fillna(df_titanic['Embarked'].mode()[0], inplace = True)\n",
    "df_titanic.isna().sum()"
   ]
  },
  {
   "cell_type": "markdown",
   "id": "b271e7fb",
   "metadata": {},
   "source": [
    "## Handling outlier"
   ]
  },
  {
   "cell_type": "code",
   "execution_count": 171,
   "id": "24bfbf93",
   "metadata": {},
   "outputs": [
    {
     "data": {
      "text/html": [
       "<div>\n",
       "<style scoped>\n",
       "    .dataframe tbody tr th:only-of-type {\n",
       "        vertical-align: middle;\n",
       "    }\n",
       "\n",
       "    .dataframe tbody tr th {\n",
       "        vertical-align: top;\n",
       "    }\n",
       "\n",
       "    .dataframe thead th {\n",
       "        text-align: right;\n",
       "    }\n",
       "</style>\n",
       "<table border=\"1\" class=\"dataframe\">\n",
       "  <thead>\n",
       "    <tr style=\"text-align: right;\">\n",
       "      <th></th>\n",
       "      <th>Survived</th>\n",
       "      <th>Pclass</th>\n",
       "      <th>Age</th>\n",
       "      <th>SibSp</th>\n",
       "      <th>Parch</th>\n",
       "      <th>Fare</th>\n",
       "    </tr>\n",
       "  </thead>\n",
       "  <tbody>\n",
       "    <tr>\n",
       "      <th>count</th>\n",
       "      <td>888.000000</td>\n",
       "      <td>888.000000</td>\n",
       "      <td>888.000000</td>\n",
       "      <td>888.000000</td>\n",
       "      <td>888.000000</td>\n",
       "      <td>888.000000</td>\n",
       "    </tr>\n",
       "    <tr>\n",
       "      <th>mean</th>\n",
       "      <td>0.382883</td>\n",
       "      <td>2.309685</td>\n",
       "      <td>34.447072</td>\n",
       "      <td>0.602477</td>\n",
       "      <td>0.370495</td>\n",
       "      <td>31.985203</td>\n",
       "    </tr>\n",
       "    <tr>\n",
       "      <th>std</th>\n",
       "      <td>0.486364</td>\n",
       "      <td>0.834594</td>\n",
       "      <td>148.610693</td>\n",
       "      <td>2.579661</td>\n",
       "      <td>0.769418</td>\n",
       "      <td>49.897705</td>\n",
       "    </tr>\n",
       "    <tr>\n",
       "      <th>min</th>\n",
       "      <td>0.000000</td>\n",
       "      <td>1.000000</td>\n",
       "      <td>-12.000000</td>\n",
       "      <td>0.000000</td>\n",
       "      <td>0.000000</td>\n",
       "      <td>-90.000000</td>\n",
       "    </tr>\n",
       "    <tr>\n",
       "      <th>25%</th>\n",
       "      <td>0.000000</td>\n",
       "      <td>2.000000</td>\n",
       "      <td>22.000000</td>\n",
       "      <td>0.000000</td>\n",
       "      <td>0.000000</td>\n",
       "      <td>7.900000</td>\n",
       "    </tr>\n",
       "    <tr>\n",
       "      <th>50%</th>\n",
       "      <td>0.000000</td>\n",
       "      <td>3.000000</td>\n",
       "      <td>28.000000</td>\n",
       "      <td>0.000000</td>\n",
       "      <td>0.000000</td>\n",
       "      <td>14.450000</td>\n",
       "    </tr>\n",
       "    <tr>\n",
       "      <th>75%</th>\n",
       "      <td>1.000000</td>\n",
       "      <td>3.000000</td>\n",
       "      <td>35.000000</td>\n",
       "      <td>1.000000</td>\n",
       "      <td>0.000000</td>\n",
       "      <td>30.700000</td>\n",
       "    </tr>\n",
       "    <tr>\n",
       "      <th>max</th>\n",
       "      <td>1.000000</td>\n",
       "      <td>3.000000</td>\n",
       "      <td>4435.000000</td>\n",
       "      <td>70.000000</td>\n",
       "      <td>5.000000</td>\n",
       "      <td>512.330000</td>\n",
       "    </tr>\n",
       "  </tbody>\n",
       "</table>\n",
       "</div>"
      ],
      "text/plain": [
       "         Survived      Pclass          Age       SibSp       Parch        Fare\n",
       "count  888.000000  888.000000   888.000000  888.000000  888.000000  888.000000\n",
       "mean     0.382883    2.309685    34.447072    0.602477    0.370495   31.985203\n",
       "std      0.486364    0.834594   148.610693    2.579661    0.769418   49.897705\n",
       "min      0.000000    1.000000   -12.000000    0.000000    0.000000  -90.000000\n",
       "25%      0.000000    2.000000    22.000000    0.000000    0.000000    7.900000\n",
       "50%      0.000000    3.000000    28.000000    0.000000    0.000000   14.450000\n",
       "75%      1.000000    3.000000    35.000000    1.000000    0.000000   30.700000\n",
       "max      1.000000    3.000000  4435.000000   70.000000    5.000000  512.330000"
      ]
     },
     "execution_count": 171,
     "metadata": {},
     "output_type": "execute_result"
    }
   ],
   "source": [
    "df_titanic.describe()"
   ]
  },
  {
   "cell_type": "markdown",
   "id": "f7ad5a1e",
   "metadata": {},
   "source": [
    "We will handle the outlier of those six columns above."
   ]
  },
  {
   "cell_type": "markdown",
   "id": "d6fabcfa",
   "metadata": {},
   "source": [
    "### Survived"
   ]
  },
  {
   "cell_type": "code",
   "execution_count": 172,
   "id": "2d8e679d",
   "metadata": {},
   "outputs": [
    {
     "data": {
      "text/plain": [
       "count    888.000000\n",
       "mean       0.382883\n",
       "std        0.486364\n",
       "min        0.000000\n",
       "25%        0.000000\n",
       "50%        0.000000\n",
       "75%        1.000000\n",
       "max        1.000000\n",
       "Name: Survived, dtype: float64"
      ]
     },
     "execution_count": 172,
     "metadata": {},
     "output_type": "execute_result"
    }
   ],
   "source": [
    "df_titanic['Survived'].describe()"
   ]
  },
  {
   "cell_type": "code",
   "execution_count": 173,
   "id": "1b29fcd8",
   "metadata": {},
   "outputs": [
    {
     "data": {
      "text/plain": [
       "0    548\n",
       "1    340\n",
       "Name: Survived, dtype: int64"
      ]
     },
     "execution_count": 173,
     "metadata": {},
     "output_type": "execute_result"
    }
   ],
   "source": [
    "df_titanic[\"Survived\"].value_counts()"
   ]
  },
  {
   "cell_type": "code",
   "execution_count": 174,
   "id": "84b3dc0d",
   "metadata": {},
   "outputs": [
    {
     "data": {
      "image/png": "[encoded data removed]",
      "text/plain": [
       "<Figure size 500x500 with 1 Axes>"
      ]
     },
     "metadata": {},
     "output_type": "display_data"
    }
   ],
   "source": [
    "df_titanic.boxplot(column=['Survived'],fontsize=10,rot=0,grid=False,figsize=(5,5),vert=False)\n",
    "plt.show()"
   ]
  },
  {
   "cell_type": "markdown",
   "id": "ffd766a7",
   "metadata": {},
   "source": [
    "There is no outlier in the survived column."
   ]
  },
  {
   "cell_type": "markdown",
   "id": "b9da1309",
   "metadata": {},
   "source": [
    "### Pclass"
   ]
  },
  {
   "cell_type": "code",
   "execution_count": 175,
   "id": "e9d9d7a7",
   "metadata": {},
   "outputs": [
    {
     "data": {
      "text/plain": [
       "count    888.000000\n",
       "mean       2.309685\n",
       "std        0.834594\n",
       "min        1.000000\n",
       "25%        2.000000\n",
       "50%        3.000000\n",
       "75%        3.000000\n",
       "max        3.000000\n",
       "Name: Pclass, dtype: float64"
      ]
     },
     "execution_count": 175,
     "metadata": {},
     "output_type": "execute_result"
    }
   ],
   "source": [
    "df_titanic['Pclass'].describe()"
   ]
  },
  {
   "cell_type": "code",
   "execution_count": 176,
   "id": "ca888f3b",
   "metadata": {},
   "outputs": [
    {
     "data": {
      "image/png": "[encoded data removed]",
      "text/plain": [
       "<Figure size 500x500 with 1 Axes>"
      ]
     },
     "metadata": {},
     "output_type": "display_data"
    }
   ],
   "source": [
    "df_titanic.boxplot(column=['Pclass'],fontsize=10,rot=0,grid=False,figsize=(5,5),vert=False)\n",
    "plt.show()"
   ]
  },
  {
   "cell_type": "markdown",
   "id": "0fb3c35f",
   "metadata": {},
   "source": [
    "There is no outlier in Pclass column."
   ]
  },
  {
   "cell_type": "markdown",
   "id": "1e1866cb",
   "metadata": {},
   "source": [
    "### Age"
   ]
  },
  {
   "cell_type": "code",
   "execution_count": 177,
   "id": "d901dbd3",
   "metadata": {},
   "outputs": [
    {
     "data": {
      "text/plain": [
       "count     888.000000\n",
       "mean       34.447072\n",
       "std       148.610693\n",
       "min       -12.000000\n",
       "25%        22.000000\n",
       "50%        28.000000\n",
       "75%        35.000000\n",
       "max      4435.000000\n",
       "Name: Age, dtype: float64"
      ]
     },
     "execution_count": 177,
     "metadata": {},
     "output_type": "execute_result"
    }
   ],
   "source": [
    "df_titanic['Age'].describe()"
   ]
  },
  {
   "cell_type": "code",
   "execution_count": 178,
   "id": "c3511ef9",
   "metadata": {},
   "outputs": [
    {
     "data": {
      "text/plain": [
       " 28.0      199\n",
       " 24.0       32\n",
       " 22.0       27\n",
       " 30.0       26\n",
       " 18.0       26\n",
       "          ... \n",
       "-12.0        1\n",
       "-3.0         1\n",
       " 4435.0      1\n",
       " 12.0        1\n",
       " 74.0        1\n",
       "Name: Age, Length: 75, dtype: int64"
      ]
     },
     "execution_count": 178,
     "metadata": {},
     "output_type": "execute_result"
    }
   ],
   "source": [
    "df_titanic['Age'].value_counts()"
   ]
  },
  {
   "cell_type": "code",
   "execution_count": 179,
   "id": "22d48300",
   "metadata": {},
   "outputs": [
    {
     "data": {
      "image/png": "[encoded data removed]",
      "text/plain": [
       "<Figure size 640x480 with 1 Axes>"
      ]
     },
     "metadata": {},
     "output_type": "display_data"
    }
   ],
   "source": [
    "sns.distplot(df_titanic.Age)\n",
    "plt.show()"
   ]
  },
  {
   "cell_type": "code",
   "execution_count": 180,
   "id": "d6a694af",
   "metadata": {},
   "outputs": [
    {
     "data": {
      "image/png": "[encoded data removed]",
      "text/plain": [
       "<Figure size 500x500 with 1 Axes>"
      ]
     },
     "metadata": {},
     "output_type": "display_data"
    }
   ],
   "source": [
    "df_titanic.boxplot(column=['Age'],fontsize=10,rot=0,grid=False,figsize=(5,5),vert=False)\n",
    "plt.show()"
   ]
  },
  {
   "cell_type": "code",
   "execution_count": 181,
   "id": "d9dbdb81",
   "metadata": {},
   "outputs": [
    {
     "name": "stdout",
     "output_type": "stream",
     "text": [
      "Q1:\n",
      " 22.0\n",
      "\n",
      "Q3:\n",
      " 35.0\n",
      "\n",
      "IQR:\n",
      " 13.0\n",
      "\n",
      "Min:\n",
      " 2.5\n",
      "\n",
      "Max:\n",
      " 54.5\n"
     ]
    }
   ],
   "source": [
    "# quartile 1 and 3\n",
    "Q1 = df_titanic['Age'].quantile(0.25)\n",
    "Q3 = df_titanic['Age'].quantile(0.75)\n",
    "\n",
    "#IQR\n",
    "IQR = Q3 - Q1\n",
    "min_age = Q1 - 1.5 * IQR\n",
    "max_age = Q3 + 1.5 * IQR\n",
    "\n",
    "print('Q1:\\n',Q1)\n",
    "print('\\nQ3:\\n',Q3)\n",
    "print('\\nIQR:\\n',IQR)\n",
    "print('\\nMin:\\n',min_age)\n",
    "print('\\nMax:\\n',max_age)"
   ]
  },
  {
   "cell_type": "code",
   "execution_count": 182,
   "id": "9cdd8921",
   "metadata": {},
   "outputs": [
    {
     "name": "stdout",
     "output_type": "stream",
     "text": [
      "Outliers from IQR method:  [-12.0, -3.0, 0.0, 1.0, 1.0, 1.0, 1.0, 1.0, 1.0, 1.0, 1.0, 1.0, 1.0, 1.0, 1.0, 1.0, 1.0, 2.0, 2.0, 2.0, 2.0, 2.0, 2.0, 2.0, 2.0, 2.0, 2.0, 55.0, 55.0, 56.0, 56.0, 56.0, 56.0, 56.0, 57.0, 57.0, 58.0, 58.0, 58.0, 58.0, 58.0, 59.0, 59.0, 60.0, 60.0, 60.0, 60.0, 61.0, 61.0, 61.0, 62.0, 62.0, 62.0, 62.0, 63.0, 63.0, 64.0, 64.0, 65.0, 65.0, 65.0, 66.0, 70.0, 70.0, 70.0, 71.0, 71.0, 74.0, 80.0, 250.0, 4435.0]\n"
     ]
    }
   ],
   "source": [
    "#another way to detect outliers\n",
    "\n",
    "outliers = []\n",
    "def detect_outliers_iqr(data):\n",
    "    data = sorted(df_titanic['Age'])\n",
    "    q1 = np.percentile(data, 25)\n",
    "    q3 = np.percentile(data, 75)\n",
    "    # print(q1, q3)\n",
    "    IQR = q3-q1\n",
    "    lwr_bound = q1-(1.5*IQR)\n",
    "    upr_bound = q3+(1.5*IQR)\n",
    "    # print(lwr_bound, upr_bound)\n",
    "    for i in data: \n",
    "        if (i<lwr_bound or i>upr_bound):\n",
    "            outliers.append(i)\n",
    "    return outliers  #Driver code\n",
    "sample_outliers = detect_outliers_iqr(df_titanic['Age'])\n",
    "print(\"Outliers from IQR method: \", sample_outliers)"
   ]
  },
  {
   "cell_type": "markdown",
   "id": "57377dcf",
   "metadata": {},
   "source": [
    "As we can see there are some outliers, to handle the outliers of this column, we will replace the outliers with median values."
   ]
  },
  {
   "cell_type": "code",
   "execution_count": 183,
   "id": "fba852ba",
   "metadata": {},
   "outputs": [
    {
     "data": {
      "text/plain": [
       "<AxesSubplot:>"
      ]
     },
     "execution_count": 183,
     "metadata": {},
     "output_type": "execute_result"
    },
    {
     "data": {
      "image/png": "[encoded data removed]",
      "text/plain": [
       "<Figure size 500x500 with 1 Axes>"
      ]
     },
     "metadata": {},
     "output_type": "display_data"
    }
   ],
   "source": [
    "median = float(df_titanic['Age'].median())\n",
    "\n",
    "df_titanic['Age'] = np.where(df_titanic['Age'] <2.5, median, df_titanic['Age'])\n",
    "df_titanic['Age'] = np.where(df_titanic['Age'] >54.5, median, df_titanic['Age'])\n",
    "df_titanic.boxplot(column=['Age'],fontsize=10,rot=0,grid=False,figsize=(5,5),vert=False)\n"
   ]
  },
  {
   "cell_type": "code",
   "execution_count": 184,
   "id": "0f407af8",
   "metadata": {},
   "outputs": [
    {
     "data": {
      "text/plain": [
       "<AxesSubplot:xlabel='Age', ylabel='Density'>"
      ]
     },
     "execution_count": 184,
     "metadata": {},
     "output_type": "execute_result"
    },
    {
     "data": {
      "image/png": "[encoded data removed]",
      "text/plain": [
       "<Figure size 640x480 with 1 Axes>"
      ]
     },
     "metadata": {},
     "output_type": "display_data"
    }
   ],
   "source": [
    "sns.distplot(df_titanic.Age)"
   ]
  },
  {
   "cell_type": "markdown",
   "id": "1236b7a5",
   "metadata": {},
   "source": [
    "### SibSp"
   ]
  },
  {
   "cell_type": "code",
   "execution_count": 185,
   "id": "6ac37c52",
   "metadata": {},
   "outputs": [
    {
     "data": {
      "text/plain": [
       "count    888.000000\n",
       "mean       0.602477\n",
       "std        2.579661\n",
       "min        0.000000\n",
       "25%        0.000000\n",
       "50%        0.000000\n",
       "75%        1.000000\n",
       "max       70.000000\n",
       "Name: SibSp, dtype: float64"
      ]
     },
     "execution_count": 185,
     "metadata": {},
     "output_type": "execute_result"
    }
   ],
   "source": [
    "df_titanic['SibSp'].describe()"
   ]
  },
  {
   "cell_type": "code",
   "execution_count": 186,
   "id": "13b4f4fb",
   "metadata": {},
   "outputs": [
    {
     "data": {
      "text/plain": [
       "0     605\n",
       "1     208\n",
       "2      28\n",
       "4      18\n",
       "3      16\n",
       "8       7\n",
       "5       5\n",
       "70      1\n",
       "Name: SibSp, dtype: int64"
      ]
     },
     "execution_count": 186,
     "metadata": {},
     "output_type": "execute_result"
    }
   ],
   "source": [
    "df_titanic['SibSp'].value_counts()"
   ]
  },
  {
   "cell_type": "code",
   "execution_count": 187,
   "id": "99e5a891",
   "metadata": {},
   "outputs": [
    {
     "data": {
      "text/plain": [
       "<AxesSubplot:>"
      ]
     },
     "execution_count": 187,
     "metadata": {},
     "output_type": "execute_result"
    },
    {
     "data": {
      "image/png": "[encoded data removed]",
      "text/plain": [
       "<Figure size 500x500 with 1 Axes>"
      ]
     },
     "metadata": {},
     "output_type": "display_data"
    }
   ],
   "source": [
    "df_titanic.boxplot(column=['SibSp'],fontsize=10,rot=0,grid=False,figsize=(5,5),vert=False)"
   ]
  },
  {
   "cell_type": "code",
   "execution_count": 188,
   "id": "cb9f4243",
   "metadata": {},
   "outputs": [
    {
     "data": {
      "text/plain": [
       "<AxesSubplot:xlabel='SibSp', ylabel='Density'>"
      ]
     },
     "execution_count": 188,
     "metadata": {},
     "output_type": "execute_result"
    },
    {
     "data": {
      "image/png": "[encoded data removed]",
      "text/plain": [
       "<Figure size 640x480 with 1 Axes>"
      ]
     },
     "metadata": {},
     "output_type": "display_data"
    }
   ],
   "source": [
    "sns.distplot(df_titanic.SibSp)"
   ]
  },
  {
   "cell_type": "markdown",
   "id": "52e089ee",
   "metadata": {},
   "source": [
    "It looks like the data is skewed, thus we are going to handle the outliers with median as well."
   ]
  },
  {
   "cell_type": "code",
   "execution_count": 189,
   "id": "40f3064d",
   "metadata": {},
   "outputs": [
    {
     "name": "stdout",
     "output_type": "stream",
     "text": [
      "Q1:\n",
      " 0.0\n",
      "\n",
      "Q3:\n",
      " 1.0\n",
      "\n",
      "IQR:\n",
      " 1.0\n",
      "\n",
      "Min:\n",
      " -1.5\n",
      "\n",
      "Max:\n",
      " 2.5\n"
     ]
    }
   ],
   "source": [
    "# quartile 1 and 3\n",
    "Q1 = df_titanic['SibSp'].quantile(0.25)\n",
    "Q3 = df_titanic['SibSp'].quantile(0.75)\n",
    "\n",
    "#IQR\n",
    "IQR = Q3 - Q1\n",
    "min_sibsp = Q1 - 1.5 * IQR\n",
    "max_sibsp = Q3 + 1.5 * IQR\n",
    "\n",
    "print('Q1:\\n',Q1)\n",
    "print('\\nQ3:\\n',Q3)\n",
    "print('\\nIQR:\\n',IQR)\n",
    "print('\\nMin:\\n',min_sibsp)\n",
    "print('\\nMax:\\n',max_sibsp)"
   ]
  },
  {
   "cell_type": "code",
   "execution_count": 190,
   "id": "313180d0",
   "metadata": {},
   "outputs": [
    {
     "data": {
      "text/plain": [
       "<AxesSubplot:>"
      ]
     },
     "execution_count": 190,
     "metadata": {},
     "output_type": "execute_result"
    },
    {
     "data": {
      "image/png": "[encoded data removed]",
      "text/plain": [
       "<Figure size 500x500 with 1 Axes>"
      ]
     },
     "metadata": {},
     "output_type": "display_data"
    }
   ],
   "source": [
    "median_sibsp = float(df_titanic['SibSp'].median())\n",
    "\n",
    "df_titanic['SibSp'] = np.where(df_titanic['SibSp'] <-1.5, median_sibsp, df_titanic['SibSp'])\n",
    "df_titanic['SibSp'] = np.where(df_titanic['SibSp'] >2.5, median_sibsp, df_titanic['SibSp'])\n",
    "df_titanic.boxplot(column=['SibSp'],fontsize=10,rot=0,grid=False,figsize=(5,5),vert=False)"
   ]
  },
  {
   "cell_type": "code",
   "execution_count": 191,
   "id": "36b75320",
   "metadata": {},
   "outputs": [
    {
     "data": {
      "text/plain": [
       "0.0    652\n",
       "1.0    208\n",
       "2.0     28\n",
       "Name: SibSp, dtype: int64"
      ]
     },
     "execution_count": 191,
     "metadata": {},
     "output_type": "execute_result"
    }
   ],
   "source": [
    "df_titanic['SibSp'].value_counts()"
   ]
  },
  {
   "cell_type": "markdown",
   "id": "0f83356c",
   "metadata": {},
   "source": [
    "### Parch"
   ]
  },
  {
   "cell_type": "code",
   "execution_count": 192,
   "id": "99319e1b",
   "metadata": {},
   "outputs": [
    {
     "data": {
      "text/plain": [
       "count    888.000000\n",
       "mean       0.370495\n",
       "std        0.769418\n",
       "min        0.000000\n",
       "25%        0.000000\n",
       "50%        0.000000\n",
       "75%        0.000000\n",
       "max        5.000000\n",
       "Name: Parch, dtype: float64"
      ]
     },
     "execution_count": 192,
     "metadata": {},
     "output_type": "execute_result"
    }
   ],
   "source": [
    "df_titanic['Parch'].describe()"
   ]
  },
  {
   "cell_type": "code",
   "execution_count": 193,
   "id": "b641c3bf",
   "metadata": {},
   "outputs": [
    {
     "data": {
      "text/plain": [
       "0.0    677\n",
       "1.0    118\n",
       "2.0     80\n",
       "3.0      5\n",
       "5.0      4\n",
       "4.0      4\n",
       "Name: Parch, dtype: int64"
      ]
     },
     "execution_count": 193,
     "metadata": {},
     "output_type": "execute_result"
    }
   ],
   "source": [
    "df_titanic['Parch'].value_counts()"
   ]
  },
  {
   "cell_type": "code",
   "execution_count": 194,
   "id": "a8f67168",
   "metadata": {},
   "outputs": [
    {
     "data": {
      "text/plain": [
       "<AxesSubplot:>"
      ]
     },
     "execution_count": 194,
     "metadata": {},
     "output_type": "execute_result"
    },
    {
     "data": {
      "image/png": "[encoded data removed]",
      "text/plain": [
       "<Figure size 500x500 with 1 Axes>"
      ]
     },
     "metadata": {},
     "output_type": "display_data"
    }
   ],
   "source": [
    "df_titanic.boxplot(column=['Parch'],fontsize=10,rot=0,grid=False,figsize=(5,5),vert=False)"
   ]
  },
  {
   "cell_type": "code",
   "execution_count": 195,
   "id": "e8afa1ac",
   "metadata": {},
   "outputs": [
    {
     "data": {
      "text/plain": [
       "<AxesSubplot:xlabel='Parch', ylabel='Density'>"
      ]
     },
     "execution_count": 195,
     "metadata": {},
     "output_type": "execute_result"
    },
    {
     "data": {
      "image/png": "[encoded data removed]",
      "text/plain": [
       "<Figure size 640x480 with 1 Axes>"
      ]
     },
     "metadata": {},
     "output_type": "display_data"
    }
   ],
   "source": [
    "sns.distplot(df_titanic.Parch)"
   ]
  },
  {
   "cell_type": "code",
   "execution_count": 196,
   "id": "68fc418a",
   "metadata": {},
   "outputs": [
    {
     "name": "stdout",
     "output_type": "stream",
     "text": [
      "Q1:\n",
      " 0.0\n",
      "\n",
      "Q3:\n",
      " 0.0\n",
      "\n",
      "IQR:\n",
      " 0.0\n",
      "\n",
      "Min:\n",
      " 0.0\n",
      "\n",
      "Max:\n",
      " 0.0\n"
     ]
    }
   ],
   "source": [
    "# quartile 1 and 3\n",
    "Q1 = df_titanic['Parch'].quantile(0.25)\n",
    "Q3 = df_titanic['Parch'].quantile(0.75)\n",
    "\n",
    "#IQR\n",
    "IQR = Q3 - Q1\n",
    "min_parch = Q1 - 1.5 * IQR\n",
    "max_parch = Q3 + 1.5 * IQR\n",
    "\n",
    "print('Q1:\\n',Q1)\n",
    "print('\\nQ3:\\n',Q3)\n",
    "print('\\nIQR:\\n',IQR)\n",
    "print('\\nMin:\\n',min_parch)\n",
    "print('\\nMax:\\n',max_parch)"
   ]
  },
  {
   "cell_type": "code",
   "execution_count": 197,
   "id": "25f7d7f5",
   "metadata": {},
   "outputs": [
    {
     "data": {
      "text/plain": [
       "<AxesSubplot:>"
      ]
     },
     "execution_count": 197,
     "metadata": {},
     "output_type": "execute_result"
    },
    {
     "data": {
      "image/png": "[encoded data removed]",
      "text/plain": [
       "<Figure size 500x500 with 1 Axes>"
      ]
     },
     "metadata": {},
     "output_type": "display_data"
    }
   ],
   "source": [
    "df_titanic['Parch'] = np.where(df_titanic['Parch'] >0, median_sibsp, df_titanic['Parch'])\n",
    "df_titanic.boxplot(column=['Parch'],fontsize=10,rot=0,grid=False,figsize=(5,5),vert=False)"
   ]
  },
  {
   "cell_type": "code",
   "execution_count": 198,
   "id": "b15998ad",
   "metadata": {},
   "outputs": [
    {
     "data": {
      "text/plain": [
       "<AxesSubplot:xlabel='Parch', ylabel='Density'>"
      ]
     },
     "execution_count": 198,
     "metadata": {},
     "output_type": "execute_result"
    },
    {
     "data": {
      "image/png": "[encoded data removed]",
      "text/plain": [
       "<Figure size 640x480 with 1 Axes>"
      ]
     },
     "metadata": {},
     "output_type": "display_data"
    }
   ],
   "source": [
    "sns.distplot(df_titanic.Parch)"
   ]
  },
  {
   "cell_type": "markdown",
   "id": "f75faa4e",
   "metadata": {},
   "source": [
    "### Fare"
   ]
  },
  {
   "cell_type": "code",
   "execution_count": 199,
   "id": "fcc2d12a",
   "metadata": {
    "scrolled": false
   },
   "outputs": [
    {
     "data": {
      "text/plain": [
       "<AxesSubplot:>"
      ]
     },
     "execution_count": 199,
     "metadata": {},
     "output_type": "execute_result"
    },
    {
     "data": {
      "image/png": "[encoded data removed]",
      "text/plain": [
       "<Figure size 500x500 with 1 Axes>"
      ]
     },
     "metadata": {},
     "output_type": "display_data"
    }
   ],
   "source": [
    "df_titanic.boxplot(column=['Fare'],fontsize=10,rot=0,grid=False,figsize=(5,5),vert=False)\n"
   ]
  },
  {
   "cell_type": "code",
   "execution_count": 200,
   "id": "7881286a",
   "metadata": {},
   "outputs": [
    {
     "data": {
      "image/png": "[encoded data removed]",
      "text/plain": [
       "<Figure size 640x480 with 1 Axes>"
      ]
     },
     "metadata": {},
     "output_type": "display_data"
    }
   ],
   "source": [
    "sns.distplot(df_titanic.Fare)\n",
    "plt.show()"
   ]
  },
  {
   "cell_type": "code",
   "execution_count": 201,
   "id": "3d263598",
   "metadata": {},
   "outputs": [
    {
     "name": "stdout",
     "output_type": "stream",
     "text": [
      "Q1:\n",
      " 7.9\n",
      "\n",
      "Q3:\n",
      " 30.7\n",
      "\n",
      "IQR:\n",
      " 22.799999999999997\n",
      "\n",
      "Min:\n",
      " -26.299999999999997\n",
      "\n",
      "Max:\n",
      " 64.89999999999999\n"
     ]
    }
   ],
   "source": [
    "# quartile 1 and 3\n",
    "Q1 = df_titanic['Fare'].quantile(0.25)\n",
    "Q3 = df_titanic['Fare'].quantile(0.75)\n",
    "\n",
    "#IQR\n",
    "IQR = Q3 - Q1\n",
    "min_fare = Q1 - 1.5 * IQR\n",
    "max_fare = Q3 + 1.5 * IQR\n",
    "\n",
    "print('Q1:\\n',Q1)\n",
    "print('\\nQ3:\\n',Q3)\n",
    "print('\\nIQR:\\n',IQR)\n",
    "print('\\nMin:\\n',min_fare)\n",
    "print('\\nMax:\\n',max_fare)"
   ]
  },
  {
   "cell_type": "code",
   "execution_count": 202,
   "id": "8167fb67",
   "metadata": {},
   "outputs": [
    {
     "name": "stdout",
     "output_type": "stream",
     "text": [
      "Outliers from IQR method:  [-90.0, 65.0, 65.0, 66.6, 66.6, 69.3, 69.3, 69.55, 69.55, 69.55, 69.55, 69.55, 69.55, 69.55, 71.0, 71.0, 71.28, 73.5, 73.5, 73.5, 73.5, 73.5, 75.25, 76.29, 76.73, 76.73, 76.73, 77.29, 77.29, 77.96, 77.96, 77.96, 78.27, 78.27, 78.85, 78.85, 79.2, 79.2, 79.2, 79.2, 79.65, 79.65, 79.65, 80.0, 80.0, 81.86, 82.17, 82.17, 83.16, 83.16, 83.16, 83.48, 83.48, 86.5, 86.5, 86.5, 89.1, 89.1, 90.0, 90.0, 90.0, 90.0, 91.08, 91.08, 93.5, 106.42, 106.42, 108.9, 108.9, 110.88, 110.88, 110.88, 110.88, 113.28, 113.28, 113.28, 120.0, 120.0, 120.0, 120.0, 133.65, 133.65, 134.5, 134.5, 135.63, 135.63, 135.63, 146.52, 146.52, 151.55, 151.55, 151.55, 151.55, 153.46, 153.46, 153.46, 164.87, 164.87, 211.34, 211.34, 211.34, 211.5, 221.78, 227.52, 227.52, 227.52, 227.52, 247.52, 247.52, 262.38, 262.38, 263.0, 263.0, 263.0, 263.0, 512.33, 512.33, 512.33]\n"
     ]
    }
   ],
   "source": [
    "#another way to detect outliers\n",
    "\n",
    "outliers = []\n",
    "def detect_outliers_iqr(data):\n",
    "    data = sorted(df_titanic['Fare'])\n",
    "    q1 = np.percentile(data, 25)\n",
    "    q3 = np.percentile(data, 75)\n",
    "    # print(q1, q3)\n",
    "    IQR = q3-q1\n",
    "    lwr_bound = q1-(1.5*IQR)\n",
    "    upr_bound = q3+(1.5*IQR)\n",
    "    # print(lwr_bound, upr_bound)\n",
    "    for i in data: \n",
    "        if (i<lwr_bound or i>upr_bound):\n",
    "            outliers.append(i)\n",
    "    return outliers  #Driver code\n",
    "sample_outliers = detect_outliers_iqr(df_titanic['Fare'])\n",
    "print(\"Outliers from IQR method: \", sample_outliers)"
   ]
  },
  {
   "cell_type": "markdown",
   "id": "e610bd8a",
   "metadata": {},
   "source": [
    "There are some outliers, we also will handle this column with median values."
   ]
  },
  {
   "cell_type": "code",
   "execution_count": 203,
   "id": "543b9175",
   "metadata": {},
   "outputs": [
    {
     "data": {
      "text/plain": [
       "<AxesSubplot:>"
      ]
     },
     "execution_count": 203,
     "metadata": {},
     "output_type": "execute_result"
    },
    {
     "data": {
      "image/png": "[encoded data removed]",
      "text/plain": [
       "<Figure size 500x500 with 1 Axes>"
      ]
     },
     "metadata": {},
     "output_type": "display_data"
    }
   ],
   "source": [
    "median_fare = float(df_titanic['Fare'].median())\n",
    "\n",
    "df_titanic['Fare'] = np.where(df_titanic['Fare'] <-26, median_fare, df_titanic['Fare'])\n",
    "df_titanic['Fare'] = np.where(df_titanic['Fare'] >64.8, median_fare, df_titanic['Fare'])\n",
    "df_titanic.boxplot(column=['Fare'],fontsize=10,rot=0,grid=False,figsize=(5,5),vert=False)\n"
   ]
  },
  {
   "cell_type": "code",
   "execution_count": 204,
   "id": "4f202cd3",
   "metadata": {},
   "outputs": [
    {
     "data": {
      "text/plain": [
       "<AxesSubplot:xlabel='Fare', ylabel='Density'>"
      ]
     },
     "execution_count": 204,
     "metadata": {},
     "output_type": "execute_result"
    },
    {
     "data": {
      "image/png": "[encoded data removed]",
      "text/plain": [
       "<Figure size 640x480 with 1 Axes>"
      ]
     },
     "metadata": {},
     "output_type": "display_data"
    }
   ],
   "source": [
    "sns.distplot(df_titanic.Fare)"
   ]
  },
  {
   "cell_type": "markdown",
   "id": "db591689",
   "metadata": {},
   "source": [
    "#### do one more checking for the null values"
   ]
  },
  {
   "cell_type": "code",
   "execution_count": 205,
   "id": "f4feccc2",
   "metadata": {},
   "outputs": [
    {
     "data": {
      "text/plain": [
       "PassengerId    0\n",
       "Survived       0\n",
       "Pclass         0\n",
       "FirstName      0\n",
       "LastName       0\n",
       "Sex            0\n",
       "Age            0\n",
       "SibSp          0\n",
       "Parch          0\n",
       "Ticket         0\n",
       "Fare           0\n",
       "Cabin          0\n",
       "Embarked       0\n",
       "Ship           0\n",
       "dtype: int64"
      ]
     },
     "execution_count": 205,
     "metadata": {},
     "output_type": "execute_result"
    }
   ],
   "source": [
    "df_titanic.isna().sum()"
   ]
  },
  {
   "cell_type": "markdown",
   "id": "0f306f66",
   "metadata": {},
   "source": [
    "### Normalization"
   ]
  },
  {
   "cell_type": "code",
   "execution_count": 206,
   "id": "60770607",
   "metadata": {},
   "outputs": [
    {
     "data": {
      "text/html": [
       "<div>\n",
       "<style scoped>\n",
       "    .dataframe tbody tr th:only-of-type {\n",
       "        vertical-align: middle;\n",
       "    }\n",
       "\n",
       "    .dataframe tbody tr th {\n",
       "        vertical-align: top;\n",
       "    }\n",
       "\n",
       "    .dataframe thead th {\n",
       "        text-align: right;\n",
       "    }\n",
       "</style>\n",
       "<table border=\"1\" class=\"dataframe\">\n",
       "  <thead>\n",
       "    <tr style=\"text-align: right;\">\n",
       "      <th></th>\n",
       "      <th>Survived</th>\n",
       "      <th>Pclass</th>\n",
       "      <th>Age</th>\n",
       "      <th>SibSp</th>\n",
       "      <th>Parch</th>\n",
       "      <th>Fare</th>\n",
       "    </tr>\n",
       "  </thead>\n",
       "  <tbody>\n",
       "    <tr>\n",
       "      <th>count</th>\n",
       "      <td>888.000000</td>\n",
       "      <td>888.000000</td>\n",
       "      <td>888.000000</td>\n",
       "      <td>888.000000</td>\n",
       "      <td>888.0</td>\n",
       "      <td>888.000000</td>\n",
       "    </tr>\n",
       "    <tr>\n",
       "      <th>mean</th>\n",
       "      <td>0.382883</td>\n",
       "      <td>2.309685</td>\n",
       "      <td>28.456081</td>\n",
       "      <td>0.297297</td>\n",
       "      <td>0.0</td>\n",
       "      <td>17.206791</td>\n",
       "    </tr>\n",
       "    <tr>\n",
       "      <th>std</th>\n",
       "      <td>0.486364</td>\n",
       "      <td>0.834594</td>\n",
       "      <td>9.796480</td>\n",
       "      <td>0.521806</td>\n",
       "      <td>0.0</td>\n",
       "      <td>12.465003</td>\n",
       "    </tr>\n",
       "    <tr>\n",
       "      <th>min</th>\n",
       "      <td>0.000000</td>\n",
       "      <td>1.000000</td>\n",
       "      <td>3.000000</td>\n",
       "      <td>0.000000</td>\n",
       "      <td>0.0</td>\n",
       "      <td>0.000000</td>\n",
       "    </tr>\n",
       "    <tr>\n",
       "      <th>25%</th>\n",
       "      <td>0.000000</td>\n",
       "      <td>2.000000</td>\n",
       "      <td>23.750000</td>\n",
       "      <td>0.000000</td>\n",
       "      <td>0.0</td>\n",
       "      <td>7.915000</td>\n",
       "    </tr>\n",
       "    <tr>\n",
       "      <th>50%</th>\n",
       "      <td>0.000000</td>\n",
       "      <td>3.000000</td>\n",
       "      <td>28.000000</td>\n",
       "      <td>0.000000</td>\n",
       "      <td>0.0</td>\n",
       "      <td>14.450000</td>\n",
       "    </tr>\n",
       "    <tr>\n",
       "      <th>75%</th>\n",
       "      <td>1.000000</td>\n",
       "      <td>3.000000</td>\n",
       "      <td>33.000000</td>\n",
       "      <td>1.000000</td>\n",
       "      <td>0.0</td>\n",
       "      <td>24.000000</td>\n",
       "    </tr>\n",
       "    <tr>\n",
       "      <th>max</th>\n",
       "      <td>1.000000</td>\n",
       "      <td>3.000000</td>\n",
       "      <td>54.000000</td>\n",
       "      <td>2.000000</td>\n",
       "      <td>0.0</td>\n",
       "      <td>63.360000</td>\n",
       "    </tr>\n",
       "  </tbody>\n",
       "</table>\n",
       "</div>"
      ],
      "text/plain": [
       "         Survived      Pclass         Age       SibSp  Parch        Fare\n",
       "count  888.000000  888.000000  888.000000  888.000000  888.0  888.000000\n",
       "mean     0.382883    2.309685   28.456081    0.297297    0.0   17.206791\n",
       "std      0.486364    0.834594    9.796480    0.521806    0.0   12.465003\n",
       "min      0.000000    1.000000    3.000000    0.000000    0.0    0.000000\n",
       "25%      0.000000    2.000000   23.750000    0.000000    0.0    7.915000\n",
       "50%      0.000000    3.000000   28.000000    0.000000    0.0   14.450000\n",
       "75%      1.000000    3.000000   33.000000    1.000000    0.0   24.000000\n",
       "max      1.000000    3.000000   54.000000    2.000000    0.0   63.360000"
      ]
     },
     "execution_count": 206,
     "metadata": {},
     "output_type": "execute_result"
    }
   ],
   "source": [
    "df_titanic.describe()"
   ]
  },
  {
   "cell_type": "code",
   "execution_count": 207,
   "id": "6ca255ea",
   "metadata": {},
   "outputs": [],
   "source": [
    "df_scaled = df_titanic[[\"Survived\",\"Pclass\",\"Age\",\"SibSp\",\"Parch\",\"Fare\"]]"
   ]
  },
  {
   "cell_type": "code",
   "execution_count": 208,
   "id": "81974287",
   "metadata": {},
   "outputs": [
    {
     "data": {
      "text/html": [
       "<div>\n",
       "<style scoped>\n",
       "    .dataframe tbody tr th:only-of-type {\n",
       "        vertical-align: middle;\n",
       "    }\n",
       "\n",
       "    .dataframe tbody tr th {\n",
       "        vertical-align: top;\n",
       "    }\n",
       "\n",
       "    .dataframe thead th {\n",
       "        text-align: right;\n",
       "    }\n",
       "</style>\n",
       "<table border=\"1\" class=\"dataframe\">\n",
       "  <thead>\n",
       "    <tr style=\"text-align: right;\">\n",
       "      <th></th>\n",
       "      <th>Survived</th>\n",
       "      <th>Pclass</th>\n",
       "      <th>Age</th>\n",
       "      <th>SibSp</th>\n",
       "      <th>Parch</th>\n",
       "      <th>Fare</th>\n",
       "    </tr>\n",
       "  </thead>\n",
       "  <tbody>\n",
       "    <tr>\n",
       "      <th>0</th>\n",
       "      <td>0.0</td>\n",
       "      <td>1.0</td>\n",
       "      <td>0.372549</td>\n",
       "      <td>0.5</td>\n",
       "      <td>NaN</td>\n",
       "      <td>0.114426</td>\n",
       "    </tr>\n",
       "    <tr>\n",
       "      <th>1</th>\n",
       "      <td>1.0</td>\n",
       "      <td>0.0</td>\n",
       "      <td>0.686275</td>\n",
       "      <td>0.5</td>\n",
       "      <td>NaN</td>\n",
       "      <td>0.228062</td>\n",
       "    </tr>\n",
       "    <tr>\n",
       "      <th>2</th>\n",
       "      <td>1.0</td>\n",
       "      <td>1.0</td>\n",
       "      <td>0.450980</td>\n",
       "      <td>0.0</td>\n",
       "      <td>NaN</td>\n",
       "      <td>0.125000</td>\n",
       "    </tr>\n",
       "    <tr>\n",
       "      <th>3</th>\n",
       "      <td>1.0</td>\n",
       "      <td>0.0</td>\n",
       "      <td>0.627451</td>\n",
       "      <td>0.5</td>\n",
       "      <td>NaN</td>\n",
       "      <td>0.838068</td>\n",
       "    </tr>\n",
       "    <tr>\n",
       "      <th>4</th>\n",
       "      <td>0.0</td>\n",
       "      <td>1.0</td>\n",
       "      <td>0.627451</td>\n",
       "      <td>0.0</td>\n",
       "      <td>NaN</td>\n",
       "      <td>0.127052</td>\n",
       "    </tr>\n",
       "    <tr>\n",
       "      <th>...</th>\n",
       "      <td>...</td>\n",
       "      <td>...</td>\n",
       "      <td>...</td>\n",
       "      <td>...</td>\n",
       "      <td>...</td>\n",
       "      <td>...</td>\n",
       "    </tr>\n",
       "    <tr>\n",
       "      <th>887</th>\n",
       "      <td>1.0</td>\n",
       "      <td>0.0</td>\n",
       "      <td>0.313725</td>\n",
       "      <td>0.0</td>\n",
       "      <td>NaN</td>\n",
       "      <td>0.473485</td>\n",
       "    </tr>\n",
       "    <tr>\n",
       "      <th>888</th>\n",
       "      <td>0.0</td>\n",
       "      <td>1.0</td>\n",
       "      <td>0.490196</td>\n",
       "      <td>0.5</td>\n",
       "      <td>NaN</td>\n",
       "      <td>0.370107</td>\n",
       "    </tr>\n",
       "    <tr>\n",
       "      <th>889</th>\n",
       "      <td>1.0</td>\n",
       "      <td>0.0</td>\n",
       "      <td>0.450980</td>\n",
       "      <td>0.0</td>\n",
       "      <td>NaN</td>\n",
       "      <td>0.473485</td>\n",
       "    </tr>\n",
       "    <tr>\n",
       "      <th>890</th>\n",
       "      <td>0.0</td>\n",
       "      <td>1.0</td>\n",
       "      <td>0.568627</td>\n",
       "      <td>0.0</td>\n",
       "      <td>NaN</td>\n",
       "      <td>0.122317</td>\n",
       "    </tr>\n",
       "    <tr>\n",
       "      <th>891</th>\n",
       "      <td>1.0</td>\n",
       "      <td>0.0</td>\n",
       "      <td>0.686275</td>\n",
       "      <td>0.5</td>\n",
       "      <td>NaN</td>\n",
       "      <td>0.228062</td>\n",
       "    </tr>\n",
       "  </tbody>\n",
       "</table>\n",
       "<p>888 rows × 6 columns</p>\n",
       "</div>"
      ],
      "text/plain": [
       "     Survived  Pclass       Age  SibSp  Parch      Fare\n",
       "0         0.0     1.0  0.372549    0.5    NaN  0.114426\n",
       "1         1.0     0.0  0.686275    0.5    NaN  0.228062\n",
       "2         1.0     1.0  0.450980    0.0    NaN  0.125000\n",
       "3         1.0     0.0  0.627451    0.5    NaN  0.838068\n",
       "4         0.0     1.0  0.627451    0.0    NaN  0.127052\n",
       "..        ...     ...       ...    ...    ...       ...\n",
       "887       1.0     0.0  0.313725    0.0    NaN  0.473485\n",
       "888       0.0     1.0  0.490196    0.5    NaN  0.370107\n",
       "889       1.0     0.0  0.450980    0.0    NaN  0.473485\n",
       "890       0.0     1.0  0.568627    0.0    NaN  0.122317\n",
       "891       1.0     0.0  0.686275    0.5    NaN  0.228062\n",
       "\n",
       "[888 rows x 6 columns]"
      ]
     },
     "execution_count": 208,
     "metadata": {},
     "output_type": "execute_result"
    }
   ],
   "source": [
    "\n",
    "# apply normalization techniques\n",
    "for column in df_scaled.columns:\n",
    "    df_scaled[column] = (df_scaled[column] - df_scaled[column].min()) / (df_scaled[column].max() - df_scaled[column].min())    \n",
    "  \n",
    "# view normalized data\n",
    "df_scaled"
   ]
  },
  {
   "cell_type": "code",
   "execution_count": 209,
   "id": "9c80e25f",
   "metadata": {
    "scrolled": false
   },
   "outputs": [
    {
     "data": {
      "image/png": "[encoded data removed]",
      "text/plain": [
       "<Figure size 1200x800 with 6 Axes>"
      ]
     },
     "metadata": {},
     "output_type": "display_data"
    }
   ],
   "source": [
    "df_scaled.hist(bins=25, grid=False, figsize=(12,8), color='#86bf91', zorder=2, rwidth=0.9)\n",
    "plt.show()"
   ]
  },
  {
   "cell_type": "code",
   "execution_count": 210,
   "id": "89ec479e",
   "metadata": {},
   "outputs": [
    {
     "name": "stdout",
     "output_type": "stream",
     "text": [
      "<class 'pandas.core.frame.DataFrame'>\n",
      "Int64Index: 888 entries, 0 to 891\n",
      "Data columns (total 14 columns):\n",
      " #   Column       Non-Null Count  Dtype  \n",
      "---  ------       --------------  -----  \n",
      " 0   PassengerId  888 non-null    object \n",
      " 1   Survived     888 non-null    int64  \n",
      " 2   Pclass       888 non-null    int64  \n",
      " 3   FirstName    888 non-null    object \n",
      " 4   LastName     888 non-null    object \n",
      " 5   Sex          888 non-null    object \n",
      " 6   Age          888 non-null    float64\n",
      " 7   SibSp        888 non-null    float64\n",
      " 8   Parch        888 non-null    float64\n",
      " 9   Ticket       888 non-null    object \n",
      " 10  Fare         888 non-null    float64\n",
      " 11  Cabin        888 non-null    object \n",
      " 12  Embarked     888 non-null    object \n",
      " 13  Ship         888 non-null    object \n",
      "dtypes: float64(4), int64(2), object(8)\n",
      "memory usage: 104.1+ KB\n"
     ]
    }
   ],
   "source": [
    "df_titanic.info()"
   ]
  },
  {
   "cell_type": "code",
   "execution_count": 211,
   "id": "ccdadcd4",
   "metadata": {},
   "outputs": [
    {
     "data": {
      "text/html": [
       "<div>\n",
       "<style scoped>\n",
       "    .dataframe tbody tr th:only-of-type {\n",
       "        vertical-align: middle;\n",
       "    }\n",
       "\n",
       "    .dataframe tbody tr th {\n",
       "        vertical-align: top;\n",
       "    }\n",
       "\n",
       "    .dataframe thead th {\n",
       "        text-align: right;\n",
       "    }\n",
       "</style>\n",
       "<table border=\"1\" class=\"dataframe\">\n",
       "  <thead>\n",
       "    <tr style=\"text-align: right;\">\n",
       "      <th></th>\n",
       "      <th>Survived</th>\n",
       "      <th>Pclass</th>\n",
       "      <th>Age</th>\n",
       "      <th>SibSp</th>\n",
       "      <th>Parch</th>\n",
       "      <th>Fare</th>\n",
       "    </tr>\n",
       "  </thead>\n",
       "  <tbody>\n",
       "    <tr>\n",
       "      <th>count</th>\n",
       "      <td>888.000000</td>\n",
       "      <td>888.000000</td>\n",
       "      <td>888.000000</td>\n",
       "      <td>888.000000</td>\n",
       "      <td>888.0</td>\n",
       "      <td>888.000000</td>\n",
       "    </tr>\n",
       "    <tr>\n",
       "      <th>mean</th>\n",
       "      <td>0.382883</td>\n",
       "      <td>2.309685</td>\n",
       "      <td>28.456081</td>\n",
       "      <td>0.297297</td>\n",
       "      <td>0.0</td>\n",
       "      <td>17.206791</td>\n",
       "    </tr>\n",
       "    <tr>\n",
       "      <th>std</th>\n",
       "      <td>0.486364</td>\n",
       "      <td>0.834594</td>\n",
       "      <td>9.796480</td>\n",
       "      <td>0.521806</td>\n",
       "      <td>0.0</td>\n",
       "      <td>12.465003</td>\n",
       "    </tr>\n",
       "    <tr>\n",
       "      <th>min</th>\n",
       "      <td>0.000000</td>\n",
       "      <td>1.000000</td>\n",
       "      <td>3.000000</td>\n",
       "      <td>0.000000</td>\n",
       "      <td>0.0</td>\n",
       "      <td>0.000000</td>\n",
       "    </tr>\n",
       "    <tr>\n",
       "      <th>25%</th>\n",
       "      <td>0.000000</td>\n",
       "      <td>2.000000</td>\n",
       "      <td>23.750000</td>\n",
       "      <td>0.000000</td>\n",
       "      <td>0.0</td>\n",
       "      <td>7.915000</td>\n",
       "    </tr>\n",
       "    <tr>\n",
       "      <th>50%</th>\n",
       "      <td>0.000000</td>\n",
       "      <td>3.000000</td>\n",
       "      <td>28.000000</td>\n",
       "      <td>0.000000</td>\n",
       "      <td>0.0</td>\n",
       "      <td>14.450000</td>\n",
       "    </tr>\n",
       "    <tr>\n",
       "      <th>75%</th>\n",
       "      <td>1.000000</td>\n",
       "      <td>3.000000</td>\n",
       "      <td>33.000000</td>\n",
       "      <td>1.000000</td>\n",
       "      <td>0.0</td>\n",
       "      <td>24.000000</td>\n",
       "    </tr>\n",
       "    <tr>\n",
       "      <th>max</th>\n",
       "      <td>1.000000</td>\n",
       "      <td>3.000000</td>\n",
       "      <td>54.000000</td>\n",
       "      <td>2.000000</td>\n",
       "      <td>0.0</td>\n",
       "      <td>63.360000</td>\n",
       "    </tr>\n",
       "  </tbody>\n",
       "</table>\n",
       "</div>"
      ],
      "text/plain": [
       "         Survived      Pclass         Age       SibSp  Parch        Fare\n",
       "count  888.000000  888.000000  888.000000  888.000000  888.0  888.000000\n",
       "mean     0.382883    2.309685   28.456081    0.297297    0.0   17.206791\n",
       "std      0.486364    0.834594    9.796480    0.521806    0.0   12.465003\n",
       "min      0.000000    1.000000    3.000000    0.000000    0.0    0.000000\n",
       "25%      0.000000    2.000000   23.750000    0.000000    0.0    7.915000\n",
       "50%      0.000000    3.000000   28.000000    0.000000    0.0   14.450000\n",
       "75%      1.000000    3.000000   33.000000    1.000000    0.0   24.000000\n",
       "max      1.000000    3.000000   54.000000    2.000000    0.0   63.360000"
      ]
     },
     "execution_count": 211,
     "metadata": {},
     "output_type": "execute_result"
    }
   ],
   "source": [
    "df_titanic.describe()"
   ]
  },
  {
   "cell_type": "code",
   "execution_count": 212,
   "id": "80f763ff",
   "metadata": {},
   "outputs": [],
   "source": [
    "# saving the dataframe\n",
    "df_titanic.to_csv('titanic_clean.csv')"
   ]
  },
  {
   "cell_type": "code",
   "execution_count": null,
   "id": "78c90c60",
   "metadata": {},
   "outputs": [],
   "source": []
  }
 ],
 "metadata": {
  "kernelspec": {
   "display_name": "Python 3 (ipykernel)",
   "language": "python",
   "name": "python3"
  },
  "language_info": {
   "codemirror_mode": {
    "name": "ipython",
    "version": 3
   },
   "file_extension": ".py",
   "mimetype": "text/x-python",
   "name": "python",
   "nbconvert_exporter": "python",
   "pygments_lexer": "ipython3",
   "version": "3.8.13"
  }
 },
 "nbformat": 4,
 "nbformat_minor": 5
}
